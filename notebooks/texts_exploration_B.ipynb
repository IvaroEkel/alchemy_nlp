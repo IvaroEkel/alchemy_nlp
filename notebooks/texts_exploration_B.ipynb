{
 "cells": [
  {
   "cell_type": "code",
   "execution_count": 4,
   "metadata": {},
   "outputs": [
    {
     "data": {
      "text/plain": [
       "'/home/user/CODE/alchemy_nlp/alchemy_texts'"
      ]
     },
     "execution_count": 4,
     "metadata": {},
     "output_type": "execute_result"
    }
   ],
   "source": [
    "pwd()"
   ]
  },
  {
   "cell_type": "code",
   "execution_count": 2,
   "metadata": {},
   "outputs": [],
   "source": [
    "import os\n",
    "os.chdir('../scr/')\n",
    "%run setup.py"
   ]
  },
  {
   "cell_type": "code",
   "execution_count": 3,
   "metadata": {},
   "outputs": [],
   "source": [
    "os.chdir('../alchemy_texts/')"
   ]
  },
  {
   "cell_type": "code",
   "execution_count": 26,
   "metadata": {},
   "outputs": [
    {
     "name": "stderr",
     "output_type": "stream",
     "text": [
      "/tmp/ipykernel_5514/2107552394.py:2: DtypeWarning: Columns (3) have mixed types. Specify dtype option on import or set low_memory=False.\n",
      "  texts0 = pd.read_csv('compressed_documents.csv', encoding= 'utf-8', on_bad_lines= 'skip', usecols = ['Title','Date','Publisher','Text'])\n"
     ]
    }
   ],
   "source": [
    "# loading the reduced dataset: original and saved by me\n",
    "texts0 = pd.read_csv('compressed_documents.csv', encoding= 'utf-8', on_bad_lines= 'skip', usecols = ['Title','Date','Publisher','Text'])"
   ]
  },
  {
   "cell_type": "code",
   "execution_count": 27,
   "metadata": {},
   "outputs": [],
   "source": [
    "texts = pd.read_csv('texts_aka_compressed_documents.csv', index_col=0)"
   ]
  },
  {
   "cell_type": "code",
   "execution_count": 32,
   "metadata": {},
   "outputs": [],
   "source": [
    "# loading the 11-word sentences labeled dataset\n",
    "lw0 = pd.read_csv('11_word_set.csv', encoding= 'utf-8', on_bad_lines= 'skip', usecols = ['Title','Date','Fragments','Lab/Ops','Principles'])"
   ]
  },
  {
   "cell_type": "code",
   "execution_count": 33,
   "metadata": {},
   "outputs": [
    {
     "data": {
      "text/html": [
       "<div>\n",
       "<style scoped>\n",
       "    .dataframe tbody tr th:only-of-type {\n",
       "        vertical-align: middle;\n",
       "    }\n",
       "\n",
       "    .dataframe tbody tr th {\n",
       "        vertical-align: top;\n",
       "    }\n",
       "\n",
       "    .dataframe thead th {\n",
       "        text-align: right;\n",
       "    }\n",
       "</style>\n",
       "<table border=\"1\" class=\"dataframe\">\n",
       "  <thead>\n",
       "    <tr style=\"text-align: right;\">\n",
       "      <th></th>\n",
       "      <th>Title</th>\n",
       "      <th>Date</th>\n",
       "      <th>Fragments</th>\n",
       "      <th>Lab/Ops</th>\n",
       "      <th>Principles</th>\n",
       "    </tr>\n",
       "  </thead>\n",
       "  <tbody>\n",
       "    <tr>\n",
       "      <th>0</th>\n",
       "      <td>Medicinal experiments, or, A collection of cho...</td>\n",
       "      <td>1693-01-01</td>\n",
       "      <td>for aguish distempers take of salt of wormwood...</td>\n",
       "      <td>NaN</td>\n",
       "      <td>NaN</td>\n",
       "    </tr>\n",
       "    <tr>\n",
       "      <th>1</th>\n",
       "      <td>A letter in answer to certain quæries and obje...</td>\n",
       "      <td>1670-01-01</td>\n",
       "      <td>man all diseases and of mercury both he and va...</td>\n",
       "      <td>NaN</td>\n",
       "      <td>1</td>\n",
       "    </tr>\n",
       "    <tr>\n",
       "      <th>2</th>\n",
       "      <td>A letter in answer to certain quæries and obje...</td>\n",
       "      <td>1670-01-01</td>\n",
       "      <td>a spagyrical physician these are mercury sulph...</td>\n",
       "      <td>NaN</td>\n",
       "      <td>1</td>\n",
       "    </tr>\n",
       "    <tr>\n",
       "      <th>3</th>\n",
       "      <td>A letter in answer to certain quæries and obje...</td>\n",
       "      <td>1670-01-01</td>\n",
       "      <td>be affrighted at antimony and mercury and trul...</td>\n",
       "      <td>1</td>\n",
       "      <td>NaN</td>\n",
       "    </tr>\n",
       "    <tr>\n",
       "      <th>4</th>\n",
       "      <td>A letter in answer to certain quæries and obje...</td>\n",
       "      <td>1670-01-01</td>\n",
       "      <td>these are mercury sulphur and salt which being...</td>\n",
       "      <td>NaN</td>\n",
       "      <td>1</td>\n",
       "    </tr>\n",
       "    <tr>\n",
       "      <th>...</th>\n",
       "      <td>...</td>\n",
       "      <td>...</td>\n",
       "      <td>...</td>\n",
       "      <td>...</td>\n",
       "      <td>...</td>\n",
       "    </tr>\n",
       "    <tr>\n",
       "      <th>435</th>\n",
       "      <td>Certain physiological essays and other tracts ...</td>\n",
       "      <td>1669-01-01</td>\n",
       "      <td>tryal having examin d this salt by the tongue ...</td>\n",
       "      <td>1</td>\n",
       "      <td>NaN</td>\n",
       "    </tr>\n",
       "    <tr>\n",
       "      <th>436</th>\n",
       "      <td>Certain physiological essays and other tracts ...</td>\n",
       "      <td>1669-01-01</td>\n",
       "      <td>reduce either to that of salt petre or of any ...</td>\n",
       "      <td>1</td>\n",
       "      <td>NaN</td>\n",
       "    </tr>\n",
       "    <tr>\n",
       "      <th>437</th>\n",
       "      <td>NaN</td>\n",
       "      <td>NaN</td>\n",
       "      <td>NaN</td>\n",
       "      <td>NaN</td>\n",
       "      <td>Lab/ops</td>\n",
       "    </tr>\n",
       "    <tr>\n",
       "      <th>438</th>\n",
       "      <td>NaN</td>\n",
       "      <td>NaN</td>\n",
       "      <td>NaN</td>\n",
       "      <td>NaN</td>\n",
       "      <td>210</td>\n",
       "    </tr>\n",
       "    <tr>\n",
       "      <th>439</th>\n",
       "      <td>NaN</td>\n",
       "      <td>NaN</td>\n",
       "      <td>NaN</td>\n",
       "      <td>%</td>\n",
       "      <td>92.92</td>\n",
       "    </tr>\n",
       "  </tbody>\n",
       "</table>\n",
       "<p>440 rows × 5 columns</p>\n",
       "</div>"
      ],
      "text/plain": [
       "                                                 Title        Date  \\\n",
       "0    Medicinal experiments, or, A collection of cho...  1693-01-01   \n",
       "1    A letter in answer to certain quæries and obje...  1670-01-01   \n",
       "2    A letter in answer to certain quæries and obje...  1670-01-01   \n",
       "3    A letter in answer to certain quæries and obje...  1670-01-01   \n",
       "4    A letter in answer to certain quæries and obje...  1670-01-01   \n",
       "..                                                 ...         ...   \n",
       "435  Certain physiological essays and other tracts ...  1669-01-01   \n",
       "436  Certain physiological essays and other tracts ...  1669-01-01   \n",
       "437                                                NaN         NaN   \n",
       "438                                                NaN         NaN   \n",
       "439                                                NaN         NaN   \n",
       "\n",
       "                                             Fragments Lab/Ops Principles  \n",
       "0    for aguish distempers take of salt of wormwood...     NaN        NaN  \n",
       "1    man all diseases and of mercury both he and va...     NaN          1  \n",
       "2    a spagyrical physician these are mercury sulph...     NaN          1  \n",
       "3    be affrighted at antimony and mercury and trul...       1        NaN  \n",
       "4    these are mercury sulphur and salt which being...     NaN          1  \n",
       "..                                                 ...     ...        ...  \n",
       "435  tryal having examin d this salt by the tongue ...       1        NaN  \n",
       "436  reduce either to that of salt petre or of any ...       1        NaN  \n",
       "437                                                NaN     NaN    Lab/ops  \n",
       "438                                                NaN     NaN        210  \n",
       "439                                                NaN       %      92.92  \n",
       "\n",
       "[440 rows x 5 columns]"
      ]
     },
     "execution_count": 33,
     "metadata": {},
     "output_type": "execute_result"
    }
   ],
   "source": [
    "lw0"
   ]
  },
  {
   "cell_type": "code",
   "execution_count": 13,
   "metadata": {},
   "outputs": [
    {
     "data": {
      "text/plain": [
       "Title         436\n",
       "Date          436\n",
       "Fragments     436\n",
       "Lab/Ops       248\n",
       "Principles    110\n",
       "dtype: int64"
      ]
     },
     "execution_count": 13,
     "metadata": {},
     "output_type": "execute_result"
    }
   ],
   "source": [
    "# get the number of non-null entries in each column\n",
    "lw0.count()"
   ]
  },
  {
   "cell_type": "code",
   "execution_count": 17,
   "metadata": {},
   "outputs": [],
   "source": [
    "# get the subset of labeled texts, i.e. those with non-null entries in the 'Lab/Ops' OR 'Principles' columns\n",
    "\n",
    "lw0labed = lw0[lw0['Lab/Ops'].notnull() ^ lw0['Principles'].notnull()]"
   ]
  },
  {
   "cell_type": "code",
   "execution_count": 18,
   "metadata": {},
   "outputs": [
    {
     "data": {
      "text/html": [
       "<div>\n",
       "<style scoped>\n",
       "    .dataframe tbody tr th:only-of-type {\n",
       "        vertical-align: middle;\n",
       "    }\n",
       "\n",
       "    .dataframe tbody tr th {\n",
       "        vertical-align: top;\n",
       "    }\n",
       "\n",
       "    .dataframe thead th {\n",
       "        text-align: right;\n",
       "    }\n",
       "</style>\n",
       "<table border=\"1\" class=\"dataframe\">\n",
       "  <thead>\n",
       "    <tr style=\"text-align: right;\">\n",
       "      <th></th>\n",
       "      <th>Title</th>\n",
       "      <th>Date</th>\n",
       "      <th>Fragments</th>\n",
       "      <th>Lab/Ops</th>\n",
       "      <th>Principles</th>\n",
       "    </tr>\n",
       "  </thead>\n",
       "  <tbody>\n",
       "    <tr>\n",
       "      <th>1</th>\n",
       "      <td>A letter in answer to certain quæries and obje...</td>\n",
       "      <td>1670-01-01</td>\n",
       "      <td>man all diseases and of mercury both he and va...</td>\n",
       "      <td>NaN</td>\n",
       "      <td>1</td>\n",
       "    </tr>\n",
       "    <tr>\n",
       "      <th>2</th>\n",
       "      <td>A letter in answer to certain quæries and obje...</td>\n",
       "      <td>1670-01-01</td>\n",
       "      <td>a spagyrical physician these are mercury sulph...</td>\n",
       "      <td>NaN</td>\n",
       "      <td>1</td>\n",
       "    </tr>\n",
       "    <tr>\n",
       "      <th>3</th>\n",
       "      <td>A letter in answer to certain quæries and obje...</td>\n",
       "      <td>1670-01-01</td>\n",
       "      <td>be affrighted at antimony and mercury and trul...</td>\n",
       "      <td>1</td>\n",
       "      <td>NaN</td>\n",
       "    </tr>\n",
       "    <tr>\n",
       "      <th>4</th>\n",
       "      <td>A letter in answer to certain quæries and obje...</td>\n",
       "      <td>1670-01-01</td>\n",
       "      <td>these are mercury sulphur and salt which being...</td>\n",
       "      <td>NaN</td>\n",
       "      <td>1</td>\n",
       "    </tr>\n",
       "    <tr>\n",
       "      <th>5</th>\n",
       "      <td>Paracelsus his Aurora, &amp; treasure of the philo...</td>\n",
       "      <td>1659-01-01</td>\n",
       "      <td>an opinion that mercury and sulphur are the ma...</td>\n",
       "      <td>NaN</td>\n",
       "      <td>1</td>\n",
       "    </tr>\n",
       "    <tr>\n",
       "      <th>...</th>\n",
       "      <td>...</td>\n",
       "      <td>...</td>\n",
       "      <td>...</td>\n",
       "      <td>...</td>\n",
       "      <td>...</td>\n",
       "    </tr>\n",
       "    <tr>\n",
       "      <th>434</th>\n",
       "      <td>A new treatise of natural philosophy, free'd f...</td>\n",
       "      <td>1687-01-01</td>\n",
       "      <td>self of note is the saltness of its waters ori...</td>\n",
       "      <td>1</td>\n",
       "      <td>NaN</td>\n",
       "    </tr>\n",
       "    <tr>\n",
       "      <th>435</th>\n",
       "      <td>Certain physiological essays and other tracts ...</td>\n",
       "      <td>1669-01-01</td>\n",
       "      <td>tryal having examin d this salt by the tongue ...</td>\n",
       "      <td>1</td>\n",
       "      <td>NaN</td>\n",
       "    </tr>\n",
       "    <tr>\n",
       "      <th>436</th>\n",
       "      <td>Certain physiological essays and other tracts ...</td>\n",
       "      <td>1669-01-01</td>\n",
       "      <td>reduce either to that of salt petre or of any ...</td>\n",
       "      <td>1</td>\n",
       "      <td>NaN</td>\n",
       "    </tr>\n",
       "    <tr>\n",
       "      <th>437</th>\n",
       "      <td>NaN</td>\n",
       "      <td>NaN</td>\n",
       "      <td>NaN</td>\n",
       "      <td>NaN</td>\n",
       "      <td>Lab/ops</td>\n",
       "    </tr>\n",
       "    <tr>\n",
       "      <th>438</th>\n",
       "      <td>NaN</td>\n",
       "      <td>NaN</td>\n",
       "      <td>NaN</td>\n",
       "      <td>NaN</td>\n",
       "      <td>210</td>\n",
       "    </tr>\n",
       "  </tbody>\n",
       "</table>\n",
       "<p>352 rows × 5 columns</p>\n",
       "</div>"
      ],
      "text/plain": [
       "                                                 Title        Date  \\\n",
       "1    A letter in answer to certain quæries and obje...  1670-01-01   \n",
       "2    A letter in answer to certain quæries and obje...  1670-01-01   \n",
       "3    A letter in answer to certain quæries and obje...  1670-01-01   \n",
       "4    A letter in answer to certain quæries and obje...  1670-01-01   \n",
       "5    Paracelsus his Aurora, & treasure of the philo...  1659-01-01   \n",
       "..                                                 ...         ...   \n",
       "434  A new treatise of natural philosophy, free'd f...  1687-01-01   \n",
       "435  Certain physiological essays and other tracts ...  1669-01-01   \n",
       "436  Certain physiological essays and other tracts ...  1669-01-01   \n",
       "437                                                NaN         NaN   \n",
       "438                                                NaN         NaN   \n",
       "\n",
       "                                             Fragments Lab/Ops Principles  \n",
       "1    man all diseases and of mercury both he and va...     NaN          1  \n",
       "2    a spagyrical physician these are mercury sulph...     NaN          1  \n",
       "3    be affrighted at antimony and mercury and trul...       1        NaN  \n",
       "4    these are mercury sulphur and salt which being...     NaN          1  \n",
       "5    an opinion that mercury and sulphur are the ma...     NaN          1  \n",
       "..                                                 ...     ...        ...  \n",
       "434  self of note is the saltness of its waters ori...       1        NaN  \n",
       "435  tryal having examin d this salt by the tongue ...       1        NaN  \n",
       "436  reduce either to that of salt petre or of any ...       1        NaN  \n",
       "437                                                NaN     NaN    Lab/ops  \n",
       "438                                                NaN     NaN        210  \n",
       "\n",
       "[352 rows x 5 columns]"
      ]
     },
     "execution_count": 18,
     "metadata": {},
     "output_type": "execute_result"
    }
   ],
   "source": [
    "lw0labed"
   ]
  },
  {
   "cell_type": "code",
   "execution_count": 20,
   "metadata": {},
   "outputs": [
    {
     "data": {
      "text/plain": [
       "Title         350\n",
       "Date          350\n",
       "Fragments     350\n",
       "Lab/Ops       245\n",
       "Principles    107\n",
       "dtype: int64"
      ]
     },
     "execution_count": 20,
     "metadata": {},
     "output_type": "execute_result"
    }
   ],
   "source": [
    "lw0labed.count()"
   ]
  },
  {
   "cell_type": "code",
   "execution_count": 22,
   "metadata": {},
   "outputs": [
    {
     "data": {
      "text/plain": [
       "(0.3, 0.7)"
      ]
     },
     "execution_count": 22,
     "metadata": {},
     "output_type": "execute_result"
    }
   ],
   "source": [
    "(107-2)/350, 245/350"
   ]
  },
  {
   "attachments": {},
   "cell_type": "markdown",
   "metadata": {},
   "source": [
    "Proportions of lab/opsm and principle fragments: (0.3, 0.7)"
   ]
  },
  {
   "attachments": {},
   "cell_type": "markdown",
   "metadata": {},
   "source": [
    "save the lw0 as csv without the last two rows"
   ]
  },
  {
   "cell_type": "code",
   "execution_count": 30,
   "metadata": {},
   "outputs": [
    {
     "data": {
      "text/plain": [
       "(440, 5)"
      ]
     },
     "execution_count": 30,
     "metadata": {},
     "output_type": "execute_result"
    }
   ],
   "source": [
    "lw0.shape"
   ]
  },
  {
   "cell_type": "code",
   "execution_count": 36,
   "metadata": {},
   "outputs": [
    {
     "data": {
      "text/html": [
       "<div>\n",
       "<style scoped>\n",
       "    .dataframe tbody tr th:only-of-type {\n",
       "        vertical-align: middle;\n",
       "    }\n",
       "\n",
       "    .dataframe tbody tr th {\n",
       "        vertical-align: top;\n",
       "    }\n",
       "\n",
       "    .dataframe thead th {\n",
       "        text-align: right;\n",
       "    }\n",
       "</style>\n",
       "<table border=\"1\" class=\"dataframe\">\n",
       "  <thead>\n",
       "    <tr style=\"text-align: right;\">\n",
       "      <th></th>\n",
       "      <th>Title</th>\n",
       "      <th>Date</th>\n",
       "      <th>Fragments</th>\n",
       "      <th>Lab/Ops</th>\n",
       "      <th>Principles</th>\n",
       "    </tr>\n",
       "  </thead>\n",
       "  <tbody>\n",
       "    <tr>\n",
       "      <th>0</th>\n",
       "      <td>Medicinal experiments, or, A collection of cho...</td>\n",
       "      <td>1693-01-01</td>\n",
       "      <td>for aguish distempers take of salt of wormwood...</td>\n",
       "      <td>NaN</td>\n",
       "      <td>NaN</td>\n",
       "    </tr>\n",
       "    <tr>\n",
       "      <th>1</th>\n",
       "      <td>A letter in answer to certain quæries and obje...</td>\n",
       "      <td>1670-01-01</td>\n",
       "      <td>man all diseases and of mercury both he and va...</td>\n",
       "      <td>NaN</td>\n",
       "      <td>1</td>\n",
       "    </tr>\n",
       "    <tr>\n",
       "      <th>2</th>\n",
       "      <td>A letter in answer to certain quæries and obje...</td>\n",
       "      <td>1670-01-01</td>\n",
       "      <td>a spagyrical physician these are mercury sulph...</td>\n",
       "      <td>NaN</td>\n",
       "      <td>1</td>\n",
       "    </tr>\n",
       "    <tr>\n",
       "      <th>3</th>\n",
       "      <td>A letter in answer to certain quæries and obje...</td>\n",
       "      <td>1670-01-01</td>\n",
       "      <td>be affrighted at antimony and mercury and trul...</td>\n",
       "      <td>1</td>\n",
       "      <td>NaN</td>\n",
       "    </tr>\n",
       "    <tr>\n",
       "      <th>4</th>\n",
       "      <td>A letter in answer to certain quæries and obje...</td>\n",
       "      <td>1670-01-01</td>\n",
       "      <td>these are mercury sulphur and salt which being...</td>\n",
       "      <td>NaN</td>\n",
       "      <td>1</td>\n",
       "    </tr>\n",
       "    <tr>\n",
       "      <th>...</th>\n",
       "      <td>...</td>\n",
       "      <td>...</td>\n",
       "      <td>...</td>\n",
       "      <td>...</td>\n",
       "      <td>...</td>\n",
       "    </tr>\n",
       "    <tr>\n",
       "      <th>432</th>\n",
       "      <td>A new treatise of natural philosophy, free'd f...</td>\n",
       "      <td>1687-01-01</td>\n",
       "      <td>of mettals to wit salt sulphur and mercury of ...</td>\n",
       "      <td>NaN</td>\n",
       "      <td>1</td>\n",
       "    </tr>\n",
       "    <tr>\n",
       "      <th>433</th>\n",
       "      <td>A new treatise of natural philosophy, free'd f...</td>\n",
       "      <td>1687-01-01</td>\n",
       "      <td>sweeter than sugar and the salt of antimony is...</td>\n",
       "      <td>1</td>\n",
       "      <td>NaN</td>\n",
       "    </tr>\n",
       "    <tr>\n",
       "      <th>434</th>\n",
       "      <td>A new treatise of natural philosophy, free'd f...</td>\n",
       "      <td>1687-01-01</td>\n",
       "      <td>self of note is the saltness of its waters ori...</td>\n",
       "      <td>1</td>\n",
       "      <td>NaN</td>\n",
       "    </tr>\n",
       "    <tr>\n",
       "      <th>435</th>\n",
       "      <td>Certain physiological essays and other tracts ...</td>\n",
       "      <td>1669-01-01</td>\n",
       "      <td>tryal having examin d this salt by the tongue ...</td>\n",
       "      <td>1</td>\n",
       "      <td>NaN</td>\n",
       "    </tr>\n",
       "    <tr>\n",
       "      <th>436</th>\n",
       "      <td>Certain physiological essays and other tracts ...</td>\n",
       "      <td>1669-01-01</td>\n",
       "      <td>reduce either to that of salt petre or of any ...</td>\n",
       "      <td>1</td>\n",
       "      <td>NaN</td>\n",
       "    </tr>\n",
       "  </tbody>\n",
       "</table>\n",
       "<p>437 rows × 5 columns</p>\n",
       "</div>"
      ],
      "text/plain": [
       "                                                 Title        Date  \\\n",
       "0    Medicinal experiments, or, A collection of cho...  1693-01-01   \n",
       "1    A letter in answer to certain quæries and obje...  1670-01-01   \n",
       "2    A letter in answer to certain quæries and obje...  1670-01-01   \n",
       "3    A letter in answer to certain quæries and obje...  1670-01-01   \n",
       "4    A letter in answer to certain quæries and obje...  1670-01-01   \n",
       "..                                                 ...         ...   \n",
       "432  A new treatise of natural philosophy, free'd f...  1687-01-01   \n",
       "433  A new treatise of natural philosophy, free'd f...  1687-01-01   \n",
       "434  A new treatise of natural philosophy, free'd f...  1687-01-01   \n",
       "435  Certain physiological essays and other tracts ...  1669-01-01   \n",
       "436  Certain physiological essays and other tracts ...  1669-01-01   \n",
       "\n",
       "                                             Fragments Lab/Ops Principles  \n",
       "0    for aguish distempers take of salt of wormwood...     NaN        NaN  \n",
       "1    man all diseases and of mercury both he and va...     NaN          1  \n",
       "2    a spagyrical physician these are mercury sulph...     NaN          1  \n",
       "3    be affrighted at antimony and mercury and trul...       1        NaN  \n",
       "4    these are mercury sulphur and salt which being...     NaN          1  \n",
       "..                                                 ...     ...        ...  \n",
       "432  of mettals to wit salt sulphur and mercury of ...     NaN          1  \n",
       "433  sweeter than sugar and the salt of antimony is...       1        NaN  \n",
       "434  self of note is the saltness of its waters ori...       1        NaN  \n",
       "435  tryal having examin d this salt by the tongue ...       1        NaN  \n",
       "436  reduce either to that of salt petre or of any ...       1        NaN  \n",
       "\n",
       "[437 rows x 5 columns]"
      ]
     },
     "execution_count": 36,
     "metadata": {},
     "output_type": "execute_result"
    }
   ],
   "source": [
    "# drop the last three rows in lw0 \n",
    "\n",
    "lw0_ = lw0.drop([437,438,439])\n",
    "# write zeros instead of NaNs in the 'Lab/Ops' and 'Principles' columns\n",
    "# lw0_ = lw0_.fillna(0)\n",
    "\n",
    "lw0_"
   ]
  },
  {
   "cell_type": "code",
   "execution_count": 37,
   "metadata": {},
   "outputs": [],
   "source": [
    "# get the subset of texts labeled as 'Lab/Ops' \n",
    "\n",
    "lw0labops = lw0_[lw0_['Lab/Ops'].notnull()]\n",
    "\n",
    "# get the 'Principles' subset\n",
    "\n",
    "lw0princip = lw0_[lw0_['Principles'].notnull()]"
   ]
  },
  {
   "cell_type": "code",
   "execution_count": 39,
   "metadata": {},
   "outputs": [],
   "source": [
    "# save lw0_ as csv\n",
    "lw0_.to_csv('lw11_aka_11_word_set.csv', encoding='utf-8')\n",
    "# save lw0labops as csv\n",
    "lw0labops.to_csv('lw0labops.csv', encoding='utf-8')\n",
    "# save lw0princip as csv\n",
    "lw0princip.to_csv('lw0princip.csv', encoding='utf-8')"
   ]
  },
  {
   "cell_type": "code",
   "execution_count": 7,
   "metadata": {},
   "outputs": [
    {
     "data": {
      "text/html": [
       "<div>\n",
       "<style scoped>\n",
       "    .dataframe tbody tr th:only-of-type {\n",
       "        vertical-align: middle;\n",
       "    }\n",
       "\n",
       "    .dataframe tbody tr th {\n",
       "        vertical-align: top;\n",
       "    }\n",
       "\n",
       "    .dataframe thead th {\n",
       "        text-align: right;\n",
       "    }\n",
       "</style>\n",
       "<table border=\"1\" class=\"dataframe\">\n",
       "  <thead>\n",
       "    <tr style=\"text-align: right;\">\n",
       "      <th></th>\n",
       "      <th>Title</th>\n",
       "      <th>Date</th>\n",
       "      <th>Publisher</th>\n",
       "      <th>Text</th>\n",
       "    </tr>\n",
       "  </thead>\n",
       "  <tbody>\n",
       "    <tr>\n",
       "      <th>0</th>\n",
       "      <td>Medicinal experiments, or, A collection of cho...</td>\n",
       "      <td>1693-01-01</td>\n",
       "      <td>NaN</td>\n",
       "      <td>\"Image 1 (unnumbered page) Medicinal Experimen...</td>\n",
       "    </tr>\n",
       "    <tr>\n",
       "      <th>1</th>\n",
       "      <td>Chymical secrets and rare experiments in physi...</td>\n",
       "      <td>1683-01-01</td>\n",
       "      <td>NaN</td>\n",
       "      <td>\"Image 1 (unnumbered page) Unnumbered page Chy...</td>\n",
       "    </tr>\n",
       "    <tr>\n",
       "      <th>2</th>\n",
       "      <td>Observations on the mineral waters of France m...</td>\n",
       "      <td>1684-01-01</td>\n",
       "      <td>NaN</td>\n",
       "      <td>\"Image 1 (unnumbered page) Unnumbered page OBS...</td>\n",
       "    </tr>\n",
       "    <tr>\n",
       "      <th>3</th>\n",
       "      <td>A letter in answer to certain qu�ries and obje...</td>\n",
       "      <td>1670-01-01</td>\n",
       "      <td>NaN</td>\n",
       "      <td>Image 1 (unnumbered page) Unnumbered page A LE...</td>\n",
       "    </tr>\n",
       "    <tr>\n",
       "      <th>4</th>\n",
       "      <td>Paracelsus his Aurora, &amp; treasure of the philo...</td>\n",
       "      <td>1659-01-01</td>\n",
       "      <td>NaN</td>\n",
       "      <td>\"full_text&gt;   Image 1 (unnumbered page) Unnumb...</td>\n",
       "    </tr>\n",
       "  </tbody>\n",
       "</table>\n",
       "</div>"
      ],
      "text/plain": [
       "                                               Title        Date Publisher  \\\n",
       "0  Medicinal experiments, or, A collection of cho...  1693-01-01       NaN   \n",
       "1  Chymical secrets and rare experiments in physi...  1683-01-01       NaN   \n",
       "2  Observations on the mineral waters of France m...  1684-01-01       NaN   \n",
       "3  A letter in answer to certain qu�ries and obje...  1670-01-01       NaN   \n",
       "4  Paracelsus his Aurora, & treasure of the philo...  1659-01-01       NaN   \n",
       "\n",
       "                                                Text  \n",
       "0  \"Image 1 (unnumbered page) Medicinal Experimen...  \n",
       "1  \"Image 1 (unnumbered page) Unnumbered page Chy...  \n",
       "2  \"Image 1 (unnumbered page) Unnumbered page OBS...  \n",
       "3  Image 1 (unnumbered page) Unnumbered page A LE...  \n",
       "4  \"full_text>   Image 1 (unnumbered page) Unnumb...  "
      ]
     },
     "execution_count": 7,
     "metadata": {},
     "output_type": "execute_result"
    }
   ],
   "source": [
    "texts0.head()"
   ]
  },
  {
   "cell_type": "code",
   "execution_count": 29,
   "metadata": {},
   "outputs": [
    {
     "data": {
      "text/html": [
       "<div>\n",
       "<style scoped>\n",
       "    .dataframe tbody tr th:only-of-type {\n",
       "        vertical-align: middle;\n",
       "    }\n",
       "\n",
       "    .dataframe tbody tr th {\n",
       "        vertical-align: top;\n",
       "    }\n",
       "\n",
       "    .dataframe thead th {\n",
       "        text-align: right;\n",
       "    }\n",
       "</style>\n",
       "<table border=\"1\" class=\"dataframe\">\n",
       "  <thead>\n",
       "    <tr style=\"text-align: right;\">\n",
       "      <th></th>\n",
       "      <th>Title</th>\n",
       "      <th>Date</th>\n",
       "      <th>Publisher</th>\n",
       "      <th>Text</th>\n",
       "    </tr>\n",
       "  </thead>\n",
       "  <tbody>\n",
       "    <tr>\n",
       "      <th>0</th>\n",
       "      <td>Medicinal experiments, or, A collection of cho...</td>\n",
       "      <td>1693-01-01</td>\n",
       "      <td>NaN</td>\n",
       "      <td>\"Image 1 (unnumbered page) Medicinal Experimen...</td>\n",
       "    </tr>\n",
       "    <tr>\n",
       "      <th>1</th>\n",
       "      <td>Chymical secrets and rare experiments in physi...</td>\n",
       "      <td>1683-01-01</td>\n",
       "      <td>NaN</td>\n",
       "      <td>\"Image 1 (unnumbered page) Unnumbered page Chy...</td>\n",
       "    </tr>\n",
       "    <tr>\n",
       "      <th>2</th>\n",
       "      <td>Observations on the mineral waters of France m...</td>\n",
       "      <td>1684-01-01</td>\n",
       "      <td>NaN</td>\n",
       "      <td>\"Image 1 (unnumbered page) Unnumbered page OBS...</td>\n",
       "    </tr>\n",
       "    <tr>\n",
       "      <th>3</th>\n",
       "      <td>A letter in answer to certain qu�ries and obje...</td>\n",
       "      <td>1670-01-01</td>\n",
       "      <td>NaN</td>\n",
       "      <td>Image 1 (unnumbered page) Unnumbered page A LE...</td>\n",
       "    </tr>\n",
       "    <tr>\n",
       "      <th>4</th>\n",
       "      <td>Paracelsus his Aurora, &amp; treasure of the philo...</td>\n",
       "      <td>1659-01-01</td>\n",
       "      <td>NaN</td>\n",
       "      <td>\"full_text&gt;   Image 1 (unnumbered page) Unnumb...</td>\n",
       "    </tr>\n",
       "  </tbody>\n",
       "</table>\n",
       "</div>"
      ],
      "text/plain": [
       "                                               Title        Date Publisher  \\\n",
       "0  Medicinal experiments, or, A collection of cho...  1693-01-01       NaN   \n",
       "1  Chymical secrets and rare experiments in physi...  1683-01-01       NaN   \n",
       "2  Observations on the mineral waters of France m...  1684-01-01       NaN   \n",
       "3  A letter in answer to certain qu�ries and obje...  1670-01-01       NaN   \n",
       "4  Paracelsus his Aurora, & treasure of the philo...  1659-01-01       NaN   \n",
       "\n",
       "                                                Text  \n",
       "0  \"Image 1 (unnumbered page) Medicinal Experimen...  \n",
       "1  \"Image 1 (unnumbered page) Unnumbered page Chy...  \n",
       "2  \"Image 1 (unnumbered page) Unnumbered page OBS...  \n",
       "3  Image 1 (unnumbered page) Unnumbered page A LE...  \n",
       "4  \"full_text>   Image 1 (unnumbered page) Unnumb...  "
      ]
     },
     "execution_count": 29,
     "metadata": {},
     "output_type": "execute_result"
    }
   ],
   "source": [
    "texts.head()"
   ]
  },
  {
   "cell_type": "code",
   "execution_count": null,
   "metadata": {},
   "outputs": [],
   "source": []
  }
 ],
 "metadata": {
  "kernelspec": {
   "display_name": "alchemy_nlp",
   "language": "python",
   "name": "python3"
  },
  "language_info": {
   "codemirror_mode": {
    "name": "ipython",
    "version": 3
   },
   "file_extension": ".py",
   "mimetype": "text/x-python",
   "name": "python",
   "nbconvert_exporter": "python",
   "pygments_lexer": "ipython3",
   "version": "3.9.16"
  },
  "orig_nbformat": 4
 },
 "nbformat": 4,
 "nbformat_minor": 2
}
