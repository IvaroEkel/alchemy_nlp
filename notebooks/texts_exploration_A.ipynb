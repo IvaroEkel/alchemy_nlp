{
 "cells": [
  {
   "cell_type": "code",
   "execution_count": null,
   "metadata": {},
   "outputs": [],
   "source": [
    "pwd()"
   ]
  },
  {
   "cell_type": "code",
   "execution_count": 2,
   "metadata": {},
   "outputs": [
    {
     "name": "stdout",
     "output_type": "stream",
     "text": [
      "Requirement already satisfied: spacy in /home/user/CODE/alchemy_nlp/lib/python3.9/site-packages (3.5.3)\n",
      "Requirement already satisfied: spacy-legacy<3.1.0,>=3.0.11 in /home/user/CODE/alchemy_nlp/lib/python3.9/site-packages (from spacy) (3.0.12)\n",
      "Requirement already satisfied: spacy-loggers<2.0.0,>=1.0.0 in /home/user/CODE/alchemy_nlp/lib/python3.9/site-packages (from spacy) (1.0.4)\n",
      "Requirement already satisfied: murmurhash<1.1.0,>=0.28.0 in /home/user/CODE/alchemy_nlp/lib/python3.9/site-packages (from spacy) (1.0.9)\n",
      "Requirement already satisfied: cymem<2.1.0,>=2.0.2 in /home/user/CODE/alchemy_nlp/lib/python3.9/site-packages (from spacy) (2.0.7)\n",
      "Requirement already satisfied: preshed<3.1.0,>=3.0.2 in /home/user/CODE/alchemy_nlp/lib/python3.9/site-packages (from spacy) (3.0.8)\n",
      "Requirement already satisfied: thinc<8.2.0,>=8.1.8 in /home/user/CODE/alchemy_nlp/lib/python3.9/site-packages (from spacy) (8.1.10)\n",
      "Requirement already satisfied: wasabi<1.2.0,>=0.9.1 in /home/user/CODE/alchemy_nlp/lib/python3.9/site-packages (from spacy) (1.1.2)\n",
      "Requirement already satisfied: srsly<3.0.0,>=2.4.3 in /home/user/CODE/alchemy_nlp/lib/python3.9/site-packages (from spacy) (2.4.6)\n",
      "Requirement already satisfied: catalogue<2.1.0,>=2.0.6 in /home/user/CODE/alchemy_nlp/lib/python3.9/site-packages (from spacy) (2.0.8)\n",
      "Requirement already satisfied: typer<0.8.0,>=0.3.0 in /home/user/CODE/alchemy_nlp/lib/python3.9/site-packages (from spacy) (0.7.0)\n",
      "Requirement already satisfied: pathy>=0.10.0 in /home/user/CODE/alchemy_nlp/lib/python3.9/site-packages (from spacy) (0.10.2)\n",
      "Requirement already satisfied: smart-open<7.0.0,>=5.2.1 in /home/user/CODE/alchemy_nlp/lib/python3.9/site-packages (from spacy) (6.3.0)\n",
      "Requirement already satisfied: tqdm<5.0.0,>=4.38.0 in /home/user/CODE/alchemy_nlp/lib/python3.9/site-packages (from spacy) (4.65.0)\n",
      "Requirement already satisfied: numpy>=1.15.0 in /home/user/CODE/alchemy_nlp/lib/python3.9/site-packages (from spacy) (1.25.0)\n",
      "Requirement already satisfied: requests<3.0.0,>=2.13.0 in /home/user/CODE/alchemy_nlp/lib/python3.9/site-packages (from spacy) (2.31.0)\n",
      "Requirement already satisfied: pydantic!=1.8,!=1.8.1,<1.11.0,>=1.7.4 in /home/user/CODE/alchemy_nlp/lib/python3.9/site-packages (from spacy) (1.10.9)\n",
      "Requirement already satisfied: jinja2 in /home/user/CODE/alchemy_nlp/lib/python3.9/site-packages (from spacy) (3.1.2)\n",
      "Requirement already satisfied: setuptools in /home/user/CODE/alchemy_nlp/lib/python3.9/site-packages (from spacy) (67.7.2)\n",
      "Requirement already satisfied: packaging>=20.0 in /home/user/CODE/alchemy_nlp/lib/python3.9/site-packages (from spacy) (23.1)\n",
      "Requirement already satisfied: langcodes<4.0.0,>=3.2.0 in /home/user/CODE/alchemy_nlp/lib/python3.9/site-packages (from spacy) (3.3.0)\n",
      "Requirement already satisfied: typing-extensions>=4.2.0 in /home/user/CODE/alchemy_nlp/lib/python3.9/site-packages (from pydantic!=1.8,!=1.8.1,<1.11.0,>=1.7.4->spacy) (4.6.3)\n",
      "Requirement already satisfied: charset-normalizer<4,>=2 in /home/user/CODE/alchemy_nlp/lib/python3.9/site-packages (from requests<3.0.0,>=2.13.0->spacy) (3.1.0)\n",
      "Requirement already satisfied: idna<4,>=2.5 in /home/user/CODE/alchemy_nlp/lib/python3.9/site-packages (from requests<3.0.0,>=2.13.0->spacy) (3.4)\n",
      "Requirement already satisfied: urllib3<3,>=1.21.1 in /home/user/CODE/alchemy_nlp/lib/python3.9/site-packages (from requests<3.0.0,>=2.13.0->spacy) (2.0.3)\n",
      "Requirement already satisfied: certifi>=2017.4.17 in /home/user/CODE/alchemy_nlp/lib/python3.9/site-packages (from requests<3.0.0,>=2.13.0->spacy) (2023.5.7)\n",
      "Requirement already satisfied: blis<0.8.0,>=0.7.8 in /home/user/CODE/alchemy_nlp/lib/python3.9/site-packages (from thinc<8.2.0,>=8.1.8->spacy) (0.7.9)\n",
      "Requirement already satisfied: confection<1.0.0,>=0.0.1 in /home/user/CODE/alchemy_nlp/lib/python3.9/site-packages (from thinc<8.2.0,>=8.1.8->spacy) (0.0.4)\n",
      "Requirement already satisfied: click<9.0.0,>=7.1.1 in /home/user/CODE/alchemy_nlp/lib/python3.9/site-packages (from typer<0.8.0,>=0.3.0->spacy) (8.1.3)\n",
      "Requirement already satisfied: MarkupSafe>=2.0 in /home/user/CODE/alchemy_nlp/lib/python3.9/site-packages (from jinja2->spacy) (2.1.3)\n",
      "Requirement already satisfied: gensim in /home/user/CODE/alchemy_nlp/lib/python3.9/site-packages (4.3.1)\n",
      "Requirement already satisfied: numpy>=1.18.5 in /home/user/CODE/alchemy_nlp/lib/python3.9/site-packages (from gensim) (1.25.0)\n",
      "Requirement already satisfied: scipy>=1.7.0 in /home/user/CODE/alchemy_nlp/lib/python3.9/site-packages (from gensim) (1.10.1)\n",
      "Requirement already satisfied: smart-open>=1.8.1 in /home/user/CODE/alchemy_nlp/lib/python3.9/site-packages (from gensim) (6.3.0)\n",
      "Requirement already satisfied: pandas in /home/user/CODE/alchemy_nlp/lib/python3.9/site-packages (2.0.2)\n",
      "Requirement already satisfied: python-dateutil>=2.8.2 in /home/user/CODE/alchemy_nlp/lib/python3.9/site-packages (from pandas) (2.8.2)\n",
      "Requirement already satisfied: pytz>=2020.1 in /home/user/CODE/alchemy_nlp/lib/python3.9/site-packages (from pandas) (2023.3)\n",
      "Requirement already satisfied: tzdata>=2022.1 in /home/user/CODE/alchemy_nlp/lib/python3.9/site-packages (from pandas) (2023.3)\n",
      "Requirement already satisfied: numpy>=1.20.3 in /home/user/CODE/alchemy_nlp/lib/python3.9/site-packages (from pandas) (1.25.0)\n",
      "Requirement already satisfied: six>=1.5 in /home/user/CODE/alchemy_nlp/lib/python3.9/site-packages (from python-dateutil>=2.8.2->pandas) (1.16.0)\n",
      "Requirement already satisfied: numpy in /home/user/CODE/alchemy_nlp/lib/python3.9/site-packages (1.25.0)\n",
      "Requirement already satisfied: matplotlib in /home/user/CODE/alchemy_nlp/lib/python3.9/site-packages (3.7.1)\n",
      "Requirement already satisfied: contourpy>=1.0.1 in /home/user/CODE/alchemy_nlp/lib/python3.9/site-packages (from matplotlib) (1.1.0)\n",
      "Requirement already satisfied: cycler>=0.10 in /home/user/CODE/alchemy_nlp/lib/python3.9/site-packages (from matplotlib) (0.11.0)\n",
      "Requirement already satisfied: fonttools>=4.22.0 in /home/user/CODE/alchemy_nlp/lib/python3.9/site-packages (from matplotlib) (4.40.0)\n",
      "Requirement already satisfied: kiwisolver>=1.0.1 in /home/user/CODE/alchemy_nlp/lib/python3.9/site-packages (from matplotlib) (1.4.4)\n",
      "Requirement already satisfied: numpy>=1.20 in /home/user/CODE/alchemy_nlp/lib/python3.9/site-packages (from matplotlib) (1.25.0)\n",
      "Requirement already satisfied: packaging>=20.0 in /home/user/CODE/alchemy_nlp/lib/python3.9/site-packages (from matplotlib) (23.1)\n",
      "Requirement already satisfied: pillow>=6.2.0 in /home/user/CODE/alchemy_nlp/lib/python3.9/site-packages (from matplotlib) (9.5.0)\n",
      "Requirement already satisfied: pyparsing>=2.3.1 in /home/user/CODE/alchemy_nlp/lib/python3.9/site-packages (from matplotlib) (3.1.0)\n",
      "Requirement already satisfied: python-dateutil>=2.7 in /home/user/CODE/alchemy_nlp/lib/python3.9/site-packages (from matplotlib) (2.8.2)\n",
      "Requirement already satisfied: importlib-resources>=3.2.0 in /home/user/CODE/alchemy_nlp/lib/python3.9/site-packages (from matplotlib) (5.12.0)\n",
      "Requirement already satisfied: zipp>=3.1.0 in /home/user/CODE/alchemy_nlp/lib/python3.9/site-packages (from importlib-resources>=3.2.0->matplotlib) (3.15.0)\n",
      "Requirement already satisfied: six>=1.5 in /home/user/CODE/alchemy_nlp/lib/python3.9/site-packages (from python-dateutil>=2.7->matplotlib) (1.16.0)\n",
      "Requirement already satisfied: nltk in /home/user/CODE/alchemy_nlp/lib/python3.9/site-packages (3.8.1)\n",
      "Requirement already satisfied: click in /home/user/CODE/alchemy_nlp/lib/python3.9/site-packages (from nltk) (8.1.3)\n",
      "Requirement already satisfied: joblib in /home/user/CODE/alchemy_nlp/lib/python3.9/site-packages (from nltk) (1.2.0)\n",
      "Requirement already satisfied: regex>=2021.8.3 in /home/user/CODE/alchemy_nlp/lib/python3.9/site-packages (from nltk) (2023.6.3)\n",
      "Requirement already satisfied: tqdm in /home/user/CODE/alchemy_nlp/lib/python3.9/site-packages (from nltk) (4.65.0)\n",
      "Requirement already satisfied: wordcloud in /home/user/CODE/alchemy_nlp/lib/python3.9/site-packages (1.9.2)\n",
      "Requirement already satisfied: numpy>=1.6.1 in /home/user/CODE/alchemy_nlp/lib/python3.9/site-packages (from wordcloud) (1.25.0)\n",
      "Requirement already satisfied: pillow in /home/user/CODE/alchemy_nlp/lib/python3.9/site-packages (from wordcloud) (9.5.0)\n",
      "Requirement already satisfied: matplotlib in /home/user/CODE/alchemy_nlp/lib/python3.9/site-packages (from wordcloud) (3.7.1)\n",
      "Requirement already satisfied: contourpy>=1.0.1 in /home/user/CODE/alchemy_nlp/lib/python3.9/site-packages (from matplotlib->wordcloud) (1.1.0)\n",
      "Requirement already satisfied: cycler>=0.10 in /home/user/CODE/alchemy_nlp/lib/python3.9/site-packages (from matplotlib->wordcloud) (0.11.0)\n",
      "Requirement already satisfied: fonttools>=4.22.0 in /home/user/CODE/alchemy_nlp/lib/python3.9/site-packages (from matplotlib->wordcloud) (4.40.0)\n",
      "Requirement already satisfied: kiwisolver>=1.0.1 in /home/user/CODE/alchemy_nlp/lib/python3.9/site-packages (from matplotlib->wordcloud) (1.4.4)\n",
      "Requirement already satisfied: packaging>=20.0 in /home/user/CODE/alchemy_nlp/lib/python3.9/site-packages (from matplotlib->wordcloud) (23.1)\n",
      "Requirement already satisfied: pyparsing>=2.3.1 in /home/user/CODE/alchemy_nlp/lib/python3.9/site-packages (from matplotlib->wordcloud) (3.1.0)\n",
      "Requirement already satisfied: python-dateutil>=2.7 in /home/user/CODE/alchemy_nlp/lib/python3.9/site-packages (from matplotlib->wordcloud) (2.8.2)\n",
      "Requirement already satisfied: importlib-resources>=3.2.0 in /home/user/CODE/alchemy_nlp/lib/python3.9/site-packages (from matplotlib->wordcloud) (5.12.0)\n",
      "Requirement already satisfied: zipp>=3.1.0 in /home/user/CODE/alchemy_nlp/lib/python3.9/site-packages (from importlib-resources>=3.2.0->matplotlib->wordcloud) (3.15.0)\n",
      "Requirement already satisfied: six>=1.5 in /home/user/CODE/alchemy_nlp/lib/python3.9/site-packages (from python-dateutil>=2.7->matplotlib->wordcloud) (1.16.0)\n"
     ]
    }
   ],
   "source": [
    "!pip install -U spacy\n",
    "!pip install gensim\n",
    "!pip install pandas\n",
    "!pip install numpy\n",
    "!pip install matplotlib\n",
    "!pip install nltk\n",
    "!pip install wordcloud\n",
    "#!pip install pyLDAvis"
   ]
  },
  {
   "cell_type": "code",
   "execution_count": 6,
   "metadata": {},
   "outputs": [
    {
     "name": "stdout",
     "output_type": "stream",
     "text": [
      "Requirement already satisfied: sklearn in /home/user/CODE/alchemy_nlp/lib/python3.9/site-packages (0.0.post5)\n",
      "Collecting pyLDAvis\n",
      "  Downloading pyLDAvis-3.4.1-py3-none-any.whl (2.6 MB)\n",
      "\u001b[2K     \u001b[90m━━━━━━━━━━━━━━━━━━━━━━━━━━━━━━━━━━━━━━━━\u001b[0m \u001b[32m2.6/2.6 MB\u001b[0m \u001b[31m10.1 MB/s\u001b[0m eta \u001b[36m0:00:00\u001b[0m00:01\u001b[0m00:01\u001b[0m\n",
      "\u001b[?25hRequirement already satisfied: numpy>=1.24.2 in /home/user/CODE/alchemy_nlp/lib/python3.9/site-packages (from pyLDAvis) (1.25.0)\n",
      "Requirement already satisfied: scipy in /home/user/CODE/alchemy_nlp/lib/python3.9/site-packages (from pyLDAvis) (1.10.1)\n",
      "Requirement already satisfied: pandas>=2.0.0 in /home/user/CODE/alchemy_nlp/lib/python3.9/site-packages (from pyLDAvis) (2.0.2)\n",
      "Requirement already satisfied: joblib>=1.2.0 in /home/user/CODE/alchemy_nlp/lib/python3.9/site-packages (from pyLDAvis) (1.2.0)\n",
      "Requirement already satisfied: jinja2 in /home/user/CODE/alchemy_nlp/lib/python3.9/site-packages (from pyLDAvis) (3.1.2)\n",
      "Collecting numexpr (from pyLDAvis)\n",
      "  Downloading numexpr-2.8.4-cp39-cp39-manylinux_2_17_x86_64.manylinux2014_x86_64.whl (380 kB)\n",
      "\u001b[2K     \u001b[90m━━━━━━━━━━━━━━━━━━━━━━━━━━━━━━━━━━━━━━\u001b[0m \u001b[32m380.7/380.7 kB\u001b[0m \u001b[31m13.7 MB/s\u001b[0m eta \u001b[36m0:00:00\u001b[0m\n",
      "\u001b[?25hCollecting funcy (from pyLDAvis)\n",
      "  Using cached funcy-2.0-py2.py3-none-any.whl (30 kB)\n",
      "Collecting scikit-learn>=1.0.0 (from pyLDAvis)\n",
      "  Using cached scikit_learn-1.2.2-cp39-cp39-manylinux_2_17_x86_64.manylinux2014_x86_64.whl (9.6 MB)\n",
      "Requirement already satisfied: gensim in /home/user/CODE/alchemy_nlp/lib/python3.9/site-packages (from pyLDAvis) (4.3.1)\n",
      "Requirement already satisfied: setuptools in /home/user/CODE/alchemy_nlp/lib/python3.9/site-packages (from pyLDAvis) (67.7.2)\n",
      "Requirement already satisfied: python-dateutil>=2.8.2 in /home/user/CODE/alchemy_nlp/lib/python3.9/site-packages (from pandas>=2.0.0->pyLDAvis) (2.8.2)\n",
      "Requirement already satisfied: pytz>=2020.1 in /home/user/CODE/alchemy_nlp/lib/python3.9/site-packages (from pandas>=2.0.0->pyLDAvis) (2023.3)\n",
      "Requirement already satisfied: tzdata>=2022.1 in /home/user/CODE/alchemy_nlp/lib/python3.9/site-packages (from pandas>=2.0.0->pyLDAvis) (2023.3)\n",
      "Collecting threadpoolctl>=2.0.0 (from scikit-learn>=1.0.0->pyLDAvis)\n",
      "  Using cached threadpoolctl-3.1.0-py3-none-any.whl (14 kB)\n",
      "Requirement already satisfied: smart-open>=1.8.1 in /home/user/CODE/alchemy_nlp/lib/python3.9/site-packages (from gensim->pyLDAvis) (6.3.0)\n",
      "Requirement already satisfied: MarkupSafe>=2.0 in /home/user/CODE/alchemy_nlp/lib/python3.9/site-packages (from jinja2->pyLDAvis) (2.1.3)\n",
      "Requirement already satisfied: six>=1.5 in /home/user/CODE/alchemy_nlp/lib/python3.9/site-packages (from python-dateutil>=2.8.2->pandas>=2.0.0->pyLDAvis) (1.16.0)\n",
      "Installing collected packages: funcy, threadpoolctl, numexpr, scikit-learn, pyLDAvis\n",
      "Successfully installed funcy-2.0 numexpr-2.8.4 pyLDAvis-3.4.1 scikit-learn-1.2.2 threadpoolctl-3.1.0\n",
      "\u001b[31mERROR: Could not find a version that satisfies the requirement pyLDAvis.sklearn (from versions: none)\u001b[0m\u001b[31m\n",
      "\u001b[0m\u001b[31mERROR: No matching distribution found for pyLDAvis.sklearn\u001b[0m\u001b[31m\n",
      "\u001b[0m\u001b[31mERROR: Could not find a version that satisfies the requirement pickle (from versions: none)\u001b[0m\u001b[31m\n",
      "\u001b[0m\u001b[31mERROR: No matching distribution found for pickle\u001b[0m\u001b[31m\n",
      "\u001b[0m\u001b[31mERROR: Could not find a version that satisfies the requirement pprint (from versions: none)\u001b[0m\u001b[31m\n",
      "\u001b[0m\u001b[31mERROR: No matching distribution found for pprint\u001b[0m\u001b[31m\n",
      "\u001b[0m"
     ]
    }
   ],
   "source": [
    "!pip install sklearn\n",
    "!pip install pyLDAvis\n",
    "!pip install pyLDAvis.sklearn\n",
    "# !pip install pickle\n",
    "# !pip install pprint"
   ]
  },
  {
   "cell_type": "code",
   "execution_count": 22,
   "metadata": {},
   "outputs": [
    {
     "name": "stdout",
     "output_type": "stream",
     "text": [
      "Collecting chardet\n",
      "  Downloading chardet-5.1.0-py3-none-any.whl (199 kB)\n",
      "\u001b[2K     \u001b[90m━━━━━━━━━━━━━━━━━━━━━━━━━━━━━━━━━━━━━\u001b[0m \u001b[32m199.1/199.1 kB\u001b[0m \u001b[31m149.3 kB/s\u001b[0m eta \u001b[36m0:00:00\u001b[0m00:01\u001b[0m00:01\u001b[0m\n",
      "\u001b[?25hInstalling collected packages: chardet\n",
      "Successfully installed chardet-5.1.0\n"
     ]
    }
   ],
   "source": [
    "!pip install chardet"
   ]
  },
  {
   "cell_type": "code",
   "execution_count": 29,
   "metadata": {},
   "outputs": [],
   "source": [
    "import os\n",
    "os.chdir('../scr/')\n",
    "%run setup.py"
   ]
  },
  {
   "cell_type": "code",
   "execution_count": 30,
   "metadata": {},
   "outputs": [
    {
     "data": {
      "text/plain": [
       "'/home/user/CODE/alchemy_nlp/scr'"
      ]
     },
     "execution_count": 30,
     "metadata": {},
     "output_type": "execute_result"
    }
   ],
   "source": [
    "pwd()"
   ]
  },
  {
   "cell_type": "code",
   "execution_count": null,
   "metadata": {},
   "outputs": [],
   "source": [
    "# error: 'utf-8' codec can't decode byte 0xb2 in position 4838: invalid start byte\n",
    "# https://stackoverflow.com/questions/18171739/unicodedecodeerror-when-reading-csv-file-in-pandas-with-python"
   ]
  },
  {
   "cell_type": "code",
   "execution_count": 31,
   "metadata": {},
   "outputs": [],
   "source": [
    "os.chdir('../alchemy_texts/')"
   ]
  },
  {
   "cell_type": "code",
   "execution_count": 32,
   "metadata": {},
   "outputs": [
    {
     "data": {
      "text/plain": [
       "'/home/user/CODE/alchemy_nlp/alchemy_texts'"
      ]
     },
     "execution_count": 32,
     "metadata": {},
     "output_type": "execute_result"
    }
   ],
   "source": [
    "pwd()"
   ]
  },
  {
   "cell_type": "code",
   "execution_count": 33,
   "metadata": {},
   "outputs": [
    {
     "name": "stdout",
     "output_type": "stream",
     "text": [
      "compressed_documents.csv  EricsTables\n"
     ]
    }
   ],
   "source": [
    "!ls"
   ]
  },
  {
   "cell_type": "code",
   "execution_count": null,
   "metadata": {},
   "outputs": [],
   "source": [
    "import chardet\n",
    "rawdata = open('compressed_documents.csv', 'rb').read()\n",
    "result = chardet.detect(rawdata)\n",
    "print(result)"
   ]
  },
  {
   "cell_type": "code",
   "execution_count": 51,
   "metadata": {},
   "outputs": [
    {
     "name": "stderr",
     "output_type": "stream",
     "text": [
      "/tmp/ipykernel_17876/2113287516.py:4: DtypeWarning: Columns (3) have mixed types. Specify dtype option on import or set low_memory=False.\n",
      "  texts = pd.read_csv('compressed_documents.csv', encoding= 'utf-8', on_bad_lines= 'skip', usecols = ['Title','Date','Publisher','Text']) #\n"
     ]
    }
   ],
   "source": [
    "# load the texts\n",
    "# texts = pd.read_csv('compressed_documents.csv', encoding= 'iso-8859-1') # ISO-8859-1\n",
    "# texts = pd.read_csv('compressed_documents.csv', encoding= 'latin1') # \n",
    "texts = pd.read_csv('compressed_documents.csv', encoding= 'utf-8', on_bad_lines= 'skip', usecols = ['Title','Date','Publisher','Text']) #  \n",
    "# texts = pd.read_csv('compressed_documents.csv', encoding= 'cp1252') # cp1252\n",
    "# texts = pd.read_csv('compressed_documents.csv') # ISO-8859-1\n",
    "# texts = texts.dropna()\n",
    "# texts = texts.reset_index(drop=True)\n",
    "# texts.head()"
   ]
  },
  {
   "cell_type": "code",
   "execution_count": 52,
   "metadata": {},
   "outputs": [
    {
     "data": {
      "text/html": [
       "<div>\n",
       "<style scoped>\n",
       "    .dataframe tbody tr th:only-of-type {\n",
       "        vertical-align: middle;\n",
       "    }\n",
       "\n",
       "    .dataframe tbody tr th {\n",
       "        vertical-align: top;\n",
       "    }\n",
       "\n",
       "    .dataframe thead th {\n",
       "        text-align: right;\n",
       "    }\n",
       "</style>\n",
       "<table border=\"1\" class=\"dataframe\">\n",
       "  <thead>\n",
       "    <tr style=\"text-align: right;\">\n",
       "      <th></th>\n",
       "      <th>Title</th>\n",
       "      <th>Date</th>\n",
       "      <th>Publisher</th>\n",
       "      <th>Text</th>\n",
       "    </tr>\n",
       "  </thead>\n",
       "  <tbody>\n",
       "    <tr>\n",
       "      <th>0</th>\n",
       "      <td>Medicinal experiments, or, A collection of cho...</td>\n",
       "      <td>1693-01-01</td>\n",
       "      <td>NaN</td>\n",
       "      <td>\"Image 1 (unnumbered page) Medicinal Experimen...</td>\n",
       "    </tr>\n",
       "    <tr>\n",
       "      <th>1</th>\n",
       "      <td>Chymical secrets and rare experiments in physi...</td>\n",
       "      <td>1683-01-01</td>\n",
       "      <td>NaN</td>\n",
       "      <td>\"Image 1 (unnumbered page) Unnumbered page Chy...</td>\n",
       "    </tr>\n",
       "    <tr>\n",
       "      <th>2</th>\n",
       "      <td>Observations on the mineral waters of France m...</td>\n",
       "      <td>1684-01-01</td>\n",
       "      <td>NaN</td>\n",
       "      <td>\"Image 1 (unnumbered page) Unnumbered page OBS...</td>\n",
       "    </tr>\n",
       "    <tr>\n",
       "      <th>3</th>\n",
       "      <td>A letter in answer to certain qu�ries and obje...</td>\n",
       "      <td>1670-01-01</td>\n",
       "      <td>NaN</td>\n",
       "      <td>Image 1 (unnumbered page) Unnumbered page A LE...</td>\n",
       "    </tr>\n",
       "    <tr>\n",
       "      <th>4</th>\n",
       "      <td>Paracelsus his Aurora, &amp; treasure of the philo...</td>\n",
       "      <td>1659-01-01</td>\n",
       "      <td>NaN</td>\n",
       "      <td>\"full_text&gt;   Image 1 (unnumbered page) Unnumb...</td>\n",
       "    </tr>\n",
       "    <tr>\n",
       "      <th>...</th>\n",
       "      <td>...</td>\n",
       "      <td>...</td>\n",
       "      <td>...</td>\n",
       "      <td>...</td>\n",
       "    </tr>\n",
       "    <tr>\n",
       "      <th>73</th>\n",
       "      <td>The arraignment of vrines vvherein are set dow...</td>\n",
       "      <td>1623-01-01</td>\n",
       "      <td>NaN</td>\n",
       "      <td>\"Image 1 (unnumbered page) Unnumbered page THE...</td>\n",
       "    </tr>\n",
       "    <tr>\n",
       "      <th>74</th>\n",
       "      <td>PharmacopSia Bateana, or, Bate's dispensatory ...</td>\n",
       "      <td>1694-01-01</td>\n",
       "      <td>NaN</td>\n",
       "      <td>\"Image 1 (unnumbered page)  Lib. 1. cap. 9 Sec...</td>\n",
       "    </tr>\n",
       "    <tr>\n",
       "      <th>75</th>\n",
       "      <td>Gregorii Opuscula, or, Notes &amp; observations up...</td>\n",
       "      <td>1650-01-01</td>\n",
       "      <td>NaN</td>\n",
       "      <td>\"Image 1 (unnumbered page) Unnumbered page GRE...</td>\n",
       "    </tr>\n",
       "    <tr>\n",
       "      <th>76</th>\n",
       "      <td>The chirurgicall lectures of tumors and vlcers...</td>\n",
       "      <td>1635-01-01</td>\n",
       "      <td>NaN</td>\n",
       "      <td>\"Image 1 (unnumbered page) Unnumbered page THE...</td>\n",
       "    </tr>\n",
       "    <tr>\n",
       "      <th>77</th>\n",
       "      <td>A short description and vindication of the tru...</td>\n",
       "      <td>1699-01-01</td>\n",
       "      <td>NaN</td>\n",
       "      <td>\"Image 1 (unnumbered page)  A Short Descriptio...</td>\n",
       "    </tr>\n",
       "  </tbody>\n",
       "</table>\n",
       "<p>78 rows × 4 columns</p>\n",
       "</div>"
      ],
      "text/plain": [
       "                                                Title        Date Publisher  \\\n",
       "0   Medicinal experiments, or, A collection of cho...  1693-01-01       NaN   \n",
       "1   Chymical secrets and rare experiments in physi...  1683-01-01       NaN   \n",
       "2   Observations on the mineral waters of France m...  1684-01-01       NaN   \n",
       "3   A letter in answer to certain qu�ries and obje...  1670-01-01       NaN   \n",
       "4   Paracelsus his Aurora, & treasure of the philo...  1659-01-01       NaN   \n",
       "..                                                ...         ...       ...   \n",
       "73  The arraignment of vrines vvherein are set dow...  1623-01-01       NaN   \n",
       "74  PharmacopSia Bateana, or, Bate's dispensatory ...  1694-01-01       NaN   \n",
       "75  Gregorii Opuscula, or, Notes & observations up...  1650-01-01       NaN   \n",
       "76  The chirurgicall lectures of tumors and vlcers...  1635-01-01       NaN   \n",
       "77  A short description and vindication of the tru...  1699-01-01       NaN   \n",
       "\n",
       "                                                 Text  \n",
       "0   \"Image 1 (unnumbered page) Medicinal Experimen...  \n",
       "1   \"Image 1 (unnumbered page) Unnumbered page Chy...  \n",
       "2   \"Image 1 (unnumbered page) Unnumbered page OBS...  \n",
       "3   Image 1 (unnumbered page) Unnumbered page A LE...  \n",
       "4   \"full_text>   Image 1 (unnumbered page) Unnumb...  \n",
       "..                                                ...  \n",
       "73  \"Image 1 (unnumbered page) Unnumbered page THE...  \n",
       "74  \"Image 1 (unnumbered page)  Lib. 1. cap. 9 Sec...  \n",
       "75  \"Image 1 (unnumbered page) Unnumbered page GRE...  \n",
       "76  \"Image 1 (unnumbered page) Unnumbered page THE...  \n",
       "77  \"Image 1 (unnumbered page)  A Short Descriptio...  \n",
       "\n",
       "[78 rows x 4 columns]"
      ]
     },
     "execution_count": 52,
     "metadata": {},
     "output_type": "execute_result"
    }
   ],
   "source": [
    "texts"
   ]
  },
  {
   "cell_type": "code",
   "execution_count": 46,
   "metadata": {},
   "outputs": [
    {
     "data": {
      "text/html": [
       "<div>\n",
       "<style scoped>\n",
       "    .dataframe tbody tr th:only-of-type {\n",
       "        vertical-align: middle;\n",
       "    }\n",
       "\n",
       "    .dataframe tbody tr th {\n",
       "        vertical-align: top;\n",
       "    }\n",
       "\n",
       "    .dataframe thead th {\n",
       "        text-align: right;\n",
       "    }\n",
       "</style>\n",
       "<table border=\"1\" class=\"dataframe\">\n",
       "  <thead>\n",
       "    <tr style=\"text-align: right;\">\n",
       "      <th></th>\n",
       "      <th>Date</th>\n",
       "      <th>Publisher</th>\n",
       "      <th>Text</th>\n",
       "    </tr>\n",
       "    <tr>\n",
       "      <th>Title</th>\n",
       "      <th></th>\n",
       "      <th></th>\n",
       "      <th></th>\n",
       "    </tr>\n",
       "  </thead>\n",
       "  <tbody>\n",
       "    <tr>\n",
       "      <th>Medicinal experiments, or, A collection of choice and safe remedies for the most part simple and easily prepared, useful in families, and very serviceable to country people / by R. Boyle ; to which is annexed a catalogue of his theological and philosophical books and tracts.</th>\n",
       "      <td>1693-01-01</td>\n",
       "      <td>NaN</td>\n",
       "      <td>\"Image 1 (unnumbered page) Medicinal Experimen...</td>\n",
       "    </tr>\n",
       "    <tr>\n",
       "      <th>Chymical secrets and rare experiments in physick &amp; philosophy with figures collected and experimented / by the Honourable and learned Sir Kenelm Digby ...</th>\n",
       "      <td>1683-01-01</td>\n",
       "      <td>NaN</td>\n",
       "      <td>\"Image 1 (unnumbered page) Unnumbered page Chy...</td>\n",
       "    </tr>\n",
       "    <tr>\n",
       "      <th>Observations on the mineral waters of France made in the Royal Academy of the Sciences / by the Sieur Du Clos.</th>\n",
       "      <td>1684-01-01</td>\n",
       "      <td>NaN</td>\n",
       "      <td>\"Image 1 (unnumbered page) Unnumbered page OBS...</td>\n",
       "    </tr>\n",
       "    <tr>\n",
       "      <th>A letter in answer to certain qu�ries and objections made by a learned Galenist against the theorie and practice of chymical physick wherein the right method of curing of diseases is demonstrated, the possibility of universal medicine evinced, and chymical physick vindicated / by George Acton ...</th>\n",
       "      <td>1670-01-01</td>\n",
       "      <td>NaN</td>\n",
       "      <td>Image 1 (unnumbered page) Unnumbered page A LE...</td>\n",
       "    </tr>\n",
       "    <tr>\n",
       "      <th>Paracelsus his Aurora, &amp; treasure of the philosophers� As also the water-stone of the wise men; describing the matter of, and manner how to attain the universal tincture. Faithfully Englished� And published by J. H. Oxon.</th>\n",
       "      <td>1659-01-01</td>\n",
       "      <td>NaN</td>\n",
       "      <td>\"full_text&gt;   Image 1 (unnumbered page) Unnumb...</td>\n",
       "    </tr>\n",
       "    <tr>\n",
       "      <th>...</th>\n",
       "      <td>...</td>\n",
       "      <td>...</td>\n",
       "      <td>...</td>\n",
       "    </tr>\n",
       "    <tr>\n",
       "      <th>The arraignment of vrines vvherein are set downe the manifold errors and abuses of ignorant vrine-mongring empirickes, cozening quacksaluers, women-physitians, and the like stuffe ... Collected and gathered as well out of the most ancient, as the moderne and late physitians of our time: and written first in the Latine tongue, and diuided into three bookes by Peter Forrest D. in Physicke ... And for the benefit of our British nations newly epitomized, and translated into our English tongue by Iames Hart Dr. of the foresaid faculty, and residing in the towne of Northampton.</th>\n",
       "      <td>1623-01-01</td>\n",
       "      <td>NaN</td>\n",
       "      <td>\"Image 1 (unnumbered page) Unnumbered page THE...</td>\n",
       "    </tr>\n",
       "    <tr>\n",
       "      <th>PharmacopSia Bateana, or, Bate's dispensatory translated from the second edition of the Latin copy, published by Mr. James Shipton : containing his choice and select recipe's, their names, compositions, preparations, vertues, uses, and doses, as they are applicable to the whole practice of physick and chyrurgery : the Arcana Goddardiana, and their recipe's intersperst in their proper places, which are almost all wanting in the Latin copy : compleated with above five hundred chymical processes, and their explications at large, various observations thereon, and a rationale upon each process : to which are added in this English edition, Goddard's drops, Russel's pouder [sic], and the Emplastrum febrifugum, those so much fam'd in the world : as also several other preparations from the Collectanea chymica, and other good authors / by William Salmon ...</th>\n",
       "      <td>1694-01-01</td>\n",
       "      <td>NaN</td>\n",
       "      <td>\"Image 1 (unnumbered page)  Lib. 1. cap. 9 Sec...</td>\n",
       "    </tr>\n",
       "    <tr>\n",
       "      <th>Gregorii Opuscula, or, Notes &amp; observations upon some passages of Scripture with other learned tracts / written by John Gregory ...</th>\n",
       "      <td>1650-01-01</td>\n",
       "      <td>NaN</td>\n",
       "      <td>\"Image 1 (unnumbered page) Unnumbered page GRE...</td>\n",
       "    </tr>\n",
       "    <tr>\n",
       "      <th>The chirurgicall lectures of tumors and vlcers Delivered on Tusedayes appointed for these exercises, and keeping of their courts in the Chirurgeans Hall these three yeeres last past, viz. 1632, 1633, and 1634. By Alexander Read Doctor of Physick, and one of the fellowes of the Physitians College of London.</th>\n",
       "      <td>1635-01-01</td>\n",
       "      <td>NaN</td>\n",
       "      <td>\"Image 1 (unnumbered page) Unnumbered page THE...</td>\n",
       "    </tr>\n",
       "    <tr>\n",
       "      <th>A short description and vindication of the true sal volatile oleosum.Of the ancients wherein 'tis prov'd the great medicine of the spirits; and consequently, an universal remedy. By T. Byfield, M.D.</th>\n",
       "      <td>1699-01-01</td>\n",
       "      <td>NaN</td>\n",
       "      <td>\"Image 1 (unnumbered page)  A Short Descriptio...</td>\n",
       "    </tr>\n",
       "  </tbody>\n",
       "</table>\n",
       "<p>78 rows × 3 columns</p>\n",
       "</div>"
      ],
      "text/plain": [
       "                                                          Date Publisher  \\\n",
       "Title                                                                      \n",
       "Medicinal experiments, or, A collection of choi...  1693-01-01       NaN   \n",
       "Chymical secrets and rare experiments in physic...  1683-01-01       NaN   \n",
       "Observations on the mineral waters of France ma...  1684-01-01       NaN   \n",
       "A letter in answer to certain qu�ries and objec...  1670-01-01       NaN   \n",
       "Paracelsus his Aurora, & treasure of the philos...  1659-01-01       NaN   \n",
       "...                                                        ...       ...   \n",
       "The arraignment of vrines vvherein are set down...  1623-01-01       NaN   \n",
       "PharmacopSia Bateana, or, Bate's dispensatory t...  1694-01-01       NaN   \n",
       "Gregorii Opuscula, or, Notes & observations upo...  1650-01-01       NaN   \n",
       "The chirurgicall lectures of tumors and vlcers ...  1635-01-01       NaN   \n",
       "A short description and vindication of the true...  1699-01-01       NaN   \n",
       "\n",
       "                                                                                                 Text  \n",
       "Title                                                                                                  \n",
       "Medicinal experiments, or, A collection of choi...  \"Image 1 (unnumbered page) Medicinal Experimen...  \n",
       "Chymical secrets and rare experiments in physic...  \"Image 1 (unnumbered page) Unnumbered page Chy...  \n",
       "Observations on the mineral waters of France ma...  \"Image 1 (unnumbered page) Unnumbered page OBS...  \n",
       "A letter in answer to certain qu�ries and objec...  Image 1 (unnumbered page) Unnumbered page A LE...  \n",
       "Paracelsus his Aurora, & treasure of the philos...  \"full_text>   Image 1 (unnumbered page) Unnumb...  \n",
       "...                                                                                               ...  \n",
       "The arraignment of vrines vvherein are set down...  \"Image 1 (unnumbered page) Unnumbered page THE...  \n",
       "PharmacopSia Bateana, or, Bate's dispensatory t...  \"Image 1 (unnumbered page)  Lib. 1. cap. 9 Sec...  \n",
       "Gregorii Opuscula, or, Notes & observations upo...  \"Image 1 (unnumbered page) Unnumbered page GRE...  \n",
       "The chirurgicall lectures of tumors and vlcers ...  \"Image 1 (unnumbered page) Unnumbered page THE...  \n",
       "A short description and vindication of the true...  \"Image 1 (unnumbered page)  A Short Descriptio...  \n",
       "\n",
       "[78 rows x 3 columns]"
      ]
     },
     "execution_count": 46,
     "metadata": {},
     "output_type": "execute_result"
    }
   ],
   "source": [
    "texts"
   ]
  },
  {
   "cell_type": "code",
   "execution_count": 53,
   "metadata": {},
   "outputs": [],
   "source": [
    "# save the texts file as a csv\n",
    "\n",
    "texts.to_csv('texts_aka_compressed_documents.csv')"
   ]
  },
  {
   "cell_type": "code",
   "execution_count": 54,
   "metadata": {},
   "outputs": [],
   "source": [
    "# save the texts file as a pickle\n",
    "\n",
    "texts.to_pickle('texts_aka_compressed_documents.pkl')"
   ]
  },
  {
   "cell_type": "code",
   "execution_count": 62,
   "metadata": {},
   "outputs": [
    {
     "data": {
      "text/plain": [
       "(0.9743589743589743, 78)"
      ]
     },
     "execution_count": 62,
     "metadata": {},
     "output_type": "execute_result"
    }
   ],
   "source": [
    "# find the proportion of nonempty to empty rows in the column Publisher\n",
    "texts['Publisher'].isnull().sum() / len(texts['Publisher']), len(texts['Publisher'])"
   ]
  },
  {
   "cell_type": "code",
   "execution_count": 58,
   "metadata": {},
   "outputs": [
    {
     "data": {
      "text/plain": [
       "Title         1\n",
       "Date          1\n",
       "Publisher    76\n",
       "Text          1\n",
       "dtype: int64"
      ]
     },
     "execution_count": 58,
     "metadata": {},
     "output_type": "execute_result"
    }
   ],
   "source": [
    "texts.isnull().sum()"
   ]
  },
  {
   "cell_type": "code",
   "execution_count": 59,
   "metadata": {},
   "outputs": [
    {
     "data": {
      "text/html": [
       "<div>\n",
       "<style scoped>\n",
       "    .dataframe tbody tr th:only-of-type {\n",
       "        vertical-align: middle;\n",
       "    }\n",
       "\n",
       "    .dataframe tbody tr th {\n",
       "        vertical-align: top;\n",
       "    }\n",
       "\n",
       "    .dataframe thead th {\n",
       "        text-align: right;\n",
       "    }\n",
       "</style>\n",
       "<table border=\"1\" class=\"dataframe\">\n",
       "  <thead>\n",
       "    <tr style=\"text-align: right;\">\n",
       "      <th></th>\n",
       "      <th>Title</th>\n",
       "      <th>Date</th>\n",
       "      <th>Publisher</th>\n",
       "      <th>Text</th>\n",
       "    </tr>\n",
       "  </thead>\n",
       "  <tbody>\n",
       "    <tr>\n",
       "      <th>40</th>\n",
       "      <td>NaN</td>\n",
       "      <td>NaN</td>\n",
       "      <td>NaN</td>\n",
       "      <td>NaN</td>\n",
       "    </tr>\n",
       "  </tbody>\n",
       "</table>\n",
       "</div>"
      ],
      "text/plain": [
       "   Title Date Publisher Text\n",
       "40   NaN  NaN       NaN  NaN"
      ]
     },
     "execution_count": 59,
     "metadata": {},
     "output_type": "execute_result"
    }
   ],
   "source": [
    "# get the row with empty date \n",
    "texts[texts['Date'].isnull()]"
   ]
  },
  {
   "cell_type": "code",
   "execution_count": 60,
   "metadata": {},
   "outputs": [
    {
     "data": {
      "text/html": [
       "<div>\n",
       "<style scoped>\n",
       "    .dataframe tbody tr th:only-of-type {\n",
       "        vertical-align: middle;\n",
       "    }\n",
       "\n",
       "    .dataframe tbody tr th {\n",
       "        vertical-align: top;\n",
       "    }\n",
       "\n",
       "    .dataframe thead th {\n",
       "        text-align: right;\n",
       "    }\n",
       "</style>\n",
       "<table border=\"1\" class=\"dataframe\">\n",
       "  <thead>\n",
       "    <tr style=\"text-align: right;\">\n",
       "      <th></th>\n",
       "      <th>Title</th>\n",
       "      <th>Date</th>\n",
       "      <th>Publisher</th>\n",
       "      <th>Text</th>\n",
       "    </tr>\n",
       "  </thead>\n",
       "  <tbody>\n",
       "    <tr>\n",
       "      <th>40</th>\n",
       "      <td>NaN</td>\n",
       "      <td>NaN</td>\n",
       "      <td>NaN</td>\n",
       "      <td>NaN</td>\n",
       "    </tr>\n",
       "  </tbody>\n",
       "</table>\n",
       "</div>"
      ],
      "text/plain": [
       "   Title Date Publisher Text\n",
       "40   NaN  NaN       NaN  NaN"
      ]
     },
     "execution_count": 60,
     "metadata": {},
     "output_type": "execute_result"
    }
   ],
   "source": [
    "# get the row with empty Title \n",
    "texts[texts['Title'].isnull()]"
   ]
  },
  {
   "cell_type": "code",
   "execution_count": 61,
   "metadata": {},
   "outputs": [
    {
     "data": {
      "text/html": [
       "<div>\n",
       "<style scoped>\n",
       "    .dataframe tbody tr th:only-of-type {\n",
       "        vertical-align: middle;\n",
       "    }\n",
       "\n",
       "    .dataframe tbody tr th {\n",
       "        vertical-align: top;\n",
       "    }\n",
       "\n",
       "    .dataframe thead th {\n",
       "        text-align: right;\n",
       "    }\n",
       "</style>\n",
       "<table border=\"1\" class=\"dataframe\">\n",
       "  <thead>\n",
       "    <tr style=\"text-align: right;\">\n",
       "      <th></th>\n",
       "      <th>Title</th>\n",
       "      <th>Date</th>\n",
       "      <th>Publisher</th>\n",
       "      <th>Text</th>\n",
       "    </tr>\n",
       "  </thead>\n",
       "  <tbody>\n",
       "    <tr>\n",
       "      <th>0</th>\n",
       "      <td>Medicinal experiments, or, A collection of cho...</td>\n",
       "      <td>1693-01-01</td>\n",
       "      <td>NaN</td>\n",
       "      <td>\"Image 1 (unnumbered page) Medicinal Experimen...</td>\n",
       "    </tr>\n",
       "    <tr>\n",
       "      <th>1</th>\n",
       "      <td>Chymical secrets and rare experiments in physi...</td>\n",
       "      <td>1683-01-01</td>\n",
       "      <td>NaN</td>\n",
       "      <td>\"Image 1 (unnumbered page) Unnumbered page Chy...</td>\n",
       "    </tr>\n",
       "    <tr>\n",
       "      <th>2</th>\n",
       "      <td>Observations on the mineral waters of France m...</td>\n",
       "      <td>1684-01-01</td>\n",
       "      <td>NaN</td>\n",
       "      <td>\"Image 1 (unnumbered page) Unnumbered page OBS...</td>\n",
       "    </tr>\n",
       "    <tr>\n",
       "      <th>3</th>\n",
       "      <td>A letter in answer to certain qu�ries and obje...</td>\n",
       "      <td>1670-01-01</td>\n",
       "      <td>NaN</td>\n",
       "      <td>Image 1 (unnumbered page) Unnumbered page A LE...</td>\n",
       "    </tr>\n",
       "    <tr>\n",
       "      <th>4</th>\n",
       "      <td>Paracelsus his Aurora, &amp; treasure of the philo...</td>\n",
       "      <td>1659-01-01</td>\n",
       "      <td>NaN</td>\n",
       "      <td>\"full_text&gt;   Image 1 (unnumbered page) Unnumb...</td>\n",
       "    </tr>\n",
       "    <tr>\n",
       "      <th>...</th>\n",
       "      <td>...</td>\n",
       "      <td>...</td>\n",
       "      <td>...</td>\n",
       "      <td>...</td>\n",
       "    </tr>\n",
       "    <tr>\n",
       "      <th>73</th>\n",
       "      <td>The arraignment of vrines vvherein are set dow...</td>\n",
       "      <td>1623-01-01</td>\n",
       "      <td>NaN</td>\n",
       "      <td>\"Image 1 (unnumbered page) Unnumbered page THE...</td>\n",
       "    </tr>\n",
       "    <tr>\n",
       "      <th>74</th>\n",
       "      <td>PharmacopSia Bateana, or, Bate's dispensatory ...</td>\n",
       "      <td>1694-01-01</td>\n",
       "      <td>NaN</td>\n",
       "      <td>\"Image 1 (unnumbered page)  Lib. 1. cap. 9 Sec...</td>\n",
       "    </tr>\n",
       "    <tr>\n",
       "      <th>75</th>\n",
       "      <td>Gregorii Opuscula, or, Notes &amp; observations up...</td>\n",
       "      <td>1650-01-01</td>\n",
       "      <td>NaN</td>\n",
       "      <td>\"Image 1 (unnumbered page) Unnumbered page GRE...</td>\n",
       "    </tr>\n",
       "    <tr>\n",
       "      <th>76</th>\n",
       "      <td>The chirurgicall lectures of tumors and vlcers...</td>\n",
       "      <td>1635-01-01</td>\n",
       "      <td>NaN</td>\n",
       "      <td>\"Image 1 (unnumbered page) Unnumbered page THE...</td>\n",
       "    </tr>\n",
       "    <tr>\n",
       "      <th>77</th>\n",
       "      <td>A short description and vindication of the tru...</td>\n",
       "      <td>1699-01-01</td>\n",
       "      <td>NaN</td>\n",
       "      <td>\"Image 1 (unnumbered page)  A Short Descriptio...</td>\n",
       "    </tr>\n",
       "  </tbody>\n",
       "</table>\n",
       "<p>76 rows × 4 columns</p>\n",
       "</div>"
      ],
      "text/plain": [
       "                                                Title        Date Publisher  \\\n",
       "0   Medicinal experiments, or, A collection of cho...  1693-01-01       NaN   \n",
       "1   Chymical secrets and rare experiments in physi...  1683-01-01       NaN   \n",
       "2   Observations on the mineral waters of France m...  1684-01-01       NaN   \n",
       "3   A letter in answer to certain qu�ries and obje...  1670-01-01       NaN   \n",
       "4   Paracelsus his Aurora, & treasure of the philo...  1659-01-01       NaN   \n",
       "..                                                ...         ...       ...   \n",
       "73  The arraignment of vrines vvherein are set dow...  1623-01-01       NaN   \n",
       "74  PharmacopSia Bateana, or, Bate's dispensatory ...  1694-01-01       NaN   \n",
       "75  Gregorii Opuscula, or, Notes & observations up...  1650-01-01       NaN   \n",
       "76  The chirurgicall lectures of tumors and vlcers...  1635-01-01       NaN   \n",
       "77  A short description and vindication of the tru...  1699-01-01       NaN   \n",
       "\n",
       "                                                 Text  \n",
       "0   \"Image 1 (unnumbered page) Medicinal Experimen...  \n",
       "1   \"Image 1 (unnumbered page) Unnumbered page Chy...  \n",
       "2   \"Image 1 (unnumbered page) Unnumbered page OBS...  \n",
       "3   Image 1 (unnumbered page) Unnumbered page A LE...  \n",
       "4   \"full_text>   Image 1 (unnumbered page) Unnumb...  \n",
       "..                                                ...  \n",
       "73  \"Image 1 (unnumbered page) Unnumbered page THE...  \n",
       "74  \"Image 1 (unnumbered page)  Lib. 1. cap. 9 Sec...  \n",
       "75  \"Image 1 (unnumbered page) Unnumbered page GRE...  \n",
       "76  \"Image 1 (unnumbered page) Unnumbered page THE...  \n",
       "77  \"Image 1 (unnumbered page)  A Short Descriptio...  \n",
       "\n",
       "[76 rows x 4 columns]"
      ]
     },
     "execution_count": 61,
     "metadata": {},
     "output_type": "execute_result"
    }
   ],
   "source": [
    "# get the row with empty Publisher \n",
    "texts[texts['Publisher'].isnull()]"
   ]
  },
  {
   "cell_type": "code",
   "execution_count": 63,
   "metadata": {},
   "outputs": [
    {
     "data": {
      "text/html": [
       "<div>\n",
       "<style scoped>\n",
       "    .dataframe tbody tr th:only-of-type {\n",
       "        vertical-align: middle;\n",
       "    }\n",
       "\n",
       "    .dataframe tbody tr th {\n",
       "        vertical-align: top;\n",
       "    }\n",
       "\n",
       "    .dataframe thead th {\n",
       "        text-align: right;\n",
       "    }\n",
       "</style>\n",
       "<table border=\"1\" class=\"dataframe\">\n",
       "  <thead>\n",
       "    <tr style=\"text-align: right;\">\n",
       "      <th></th>\n",
       "      <th>Title</th>\n",
       "      <th>Date</th>\n",
       "      <th>Publisher</th>\n",
       "      <th>Text</th>\n",
       "    </tr>\n",
       "  </thead>\n",
       "  <tbody>\n",
       "    <tr>\n",
       "      <th>40</th>\n",
       "      <td>NaN</td>\n",
       "      <td>NaN</td>\n",
       "      <td>NaN</td>\n",
       "      <td>NaN</td>\n",
       "    </tr>\n",
       "  </tbody>\n",
       "</table>\n",
       "</div>"
      ],
      "text/plain": [
       "   Title Date Publisher Text\n",
       "40   NaN  NaN       NaN  NaN"
      ]
     },
     "execution_count": 63,
     "metadata": {},
     "output_type": "execute_result"
    }
   ],
   "source": [
    "# get the row with empty Text \n",
    "texts[texts['Text'].isnull()]"
   ]
  },
  {
   "cell_type": "code",
   "execution_count": 64,
   "metadata": {},
   "outputs": [],
   "source": [
    "# drop the line with all of its columns empty\n",
    "texts = texts.dropna(how='all') # drop the line with all of its columns empty"
   ]
  },
  {
   "cell_type": "code",
   "execution_count": 70,
   "metadata": {},
   "outputs": [
    {
     "data": {
      "text/plain": [
       "Title         0\n",
       "Date          0\n",
       "Publisher    75\n",
       "Text          0\n",
       "dtype: int64"
      ]
     },
     "execution_count": 70,
     "metadata": {},
     "output_type": "execute_result"
    }
   ],
   "source": [
    "texts.isnull().sum()"
   ]
  },
  {
   "cell_type": "code",
   "execution_count": null,
   "metadata": {},
   "outputs": [],
   "source": []
  }
 ],
 "metadata": {
  "kernelspec": {
   "display_name": "alchemy_nlp",
   "language": "python",
   "name": "python3"
  },
  "language_info": {
   "codemirror_mode": {
    "name": "ipython",
    "version": 3
   },
   "file_extension": ".py",
   "mimetype": "text/x-python",
   "name": "python",
   "nbconvert_exporter": "python",
   "pygments_lexer": "ipython3",
   "version": "3.9.16"
  },
  "orig_nbformat": 4
 },
 "nbformat": 4,
 "nbformat_minor": 2
}
