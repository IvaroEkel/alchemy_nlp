{
 "cells": [
  {
   "cell_type": "code",
   "execution_count": 7,
   "metadata": {},
   "outputs": [
    {
     "name": "stdout",
     "output_type": "stream",
     "text": [
      "Requirement already satisfied: spacy in /Users/jasminejin/miniconda3/envs/alchemy_nlp/lib/python3.8/site-packages (3.6.0)\r\n",
      "Requirement already satisfied: spacy-legacy<3.1.0,>=3.0.11 in /Users/jasminejin/miniconda3/envs/alchemy_nlp/lib/python3.8/site-packages (from spacy) (3.0.12)\r\n",
      "Requirement already satisfied: spacy-loggers<2.0.0,>=1.0.0 in /Users/jasminejin/miniconda3/envs/alchemy_nlp/lib/python3.8/site-packages (from spacy) (1.0.4)\r\n",
      "Requirement already satisfied: murmurhash<1.1.0,>=0.28.0 in /Users/jasminejin/miniconda3/envs/alchemy_nlp/lib/python3.8/site-packages (from spacy) (1.0.9)\r\n",
      "Requirement already satisfied: cymem<2.1.0,>=2.0.2 in /Users/jasminejin/miniconda3/envs/alchemy_nlp/lib/python3.8/site-packages (from spacy) (2.0.7)\r\n",
      "Requirement already satisfied: preshed<3.1.0,>=3.0.2 in /Users/jasminejin/miniconda3/envs/alchemy_nlp/lib/python3.8/site-packages (from spacy) (3.0.8)\r\n",
      "Requirement already satisfied: thinc<8.2.0,>=8.1.8 in /Users/jasminejin/miniconda3/envs/alchemy_nlp/lib/python3.8/site-packages (from spacy) (8.1.10)\r\n",
      "Requirement already satisfied: wasabi<1.2.0,>=0.9.1 in /Users/jasminejin/miniconda3/envs/alchemy_nlp/lib/python3.8/site-packages (from spacy) (1.1.2)\r\n",
      "Requirement already satisfied: srsly<3.0.0,>=2.4.3 in /Users/jasminejin/miniconda3/envs/alchemy_nlp/lib/python3.8/site-packages (from spacy) (2.4.7)\r\n",
      "Requirement already satisfied: catalogue<2.1.0,>=2.0.6 in /Users/jasminejin/miniconda3/envs/alchemy_nlp/lib/python3.8/site-packages (from spacy) (2.0.9)\r\n",
      "Requirement already satisfied: typer<0.10.0,>=0.3.0 in /Users/jasminejin/miniconda3/envs/alchemy_nlp/lib/python3.8/site-packages (from spacy) (0.9.0)\r\n",
      "Requirement already satisfied: pathy>=0.10.0 in /Users/jasminejin/miniconda3/envs/alchemy_nlp/lib/python3.8/site-packages (from spacy) (0.10.2)\r\n",
      "Requirement already satisfied: smart-open<7.0.0,>=5.2.1 in /Users/jasminejin/miniconda3/envs/alchemy_nlp/lib/python3.8/site-packages (from spacy) (5.2.1)\r\n",
      "Requirement already satisfied: tqdm<5.0.0,>=4.38.0 in /Users/jasminejin/miniconda3/envs/alchemy_nlp/lib/python3.8/site-packages (from spacy) (4.65.0)\r\n",
      "Requirement already satisfied: numpy>=1.15.0 in /Users/jasminejin/miniconda3/envs/alchemy_nlp/lib/python3.8/site-packages (from spacy) (1.24.3)\r\n",
      "Requirement already satisfied: requests<3.0.0,>=2.13.0 in /Users/jasminejin/miniconda3/envs/alchemy_nlp/lib/python3.8/site-packages (from spacy) (2.31.0)\r\n",
      "Requirement already satisfied: pydantic!=1.8,!=1.8.1,<1.11.0,>=1.7.4 in /Users/jasminejin/miniconda3/envs/alchemy_nlp/lib/python3.8/site-packages (from spacy) (1.10.12)\r\n",
      "Requirement already satisfied: jinja2 in /Users/jasminejin/miniconda3/envs/alchemy_nlp/lib/python3.8/site-packages (from spacy) (3.1.2)\r\n",
      "Requirement already satisfied: setuptools in /Users/jasminejin/miniconda3/envs/alchemy_nlp/lib/python3.8/site-packages (from spacy) (68.0.0)\r\n",
      "Requirement already satisfied: packaging>=20.0 in /Users/jasminejin/miniconda3/envs/alchemy_nlp/lib/python3.8/site-packages (from spacy) (23.0)\r\n",
      "Requirement already satisfied: langcodes<4.0.0,>=3.2.0 in /Users/jasminejin/miniconda3/envs/alchemy_nlp/lib/python3.8/site-packages (from spacy) (3.3.0)\r\n",
      "Requirement already satisfied: typing-extensions>=4.2.0 in /Users/jasminejin/miniconda3/envs/alchemy_nlp/lib/python3.8/site-packages (from pydantic!=1.8,!=1.8.1,<1.11.0,>=1.7.4->spacy) (4.7.1)\r\n",
      "Requirement already satisfied: charset-normalizer<4,>=2 in /Users/jasminejin/miniconda3/envs/alchemy_nlp/lib/python3.8/site-packages (from requests<3.0.0,>=2.13.0->spacy) (2.0.4)\r\n",
      "Requirement already satisfied: idna<4,>=2.5 in /Users/jasminejin/miniconda3/envs/alchemy_nlp/lib/python3.8/site-packages (from requests<3.0.0,>=2.13.0->spacy) (3.4)\r\n",
      "Requirement already satisfied: urllib3<3,>=1.21.1 in /Users/jasminejin/miniconda3/envs/alchemy_nlp/lib/python3.8/site-packages (from requests<3.0.0,>=2.13.0->spacy) (1.26.16)\r\n",
      "Requirement already satisfied: certifi>=2017.4.17 in /Users/jasminejin/miniconda3/envs/alchemy_nlp/lib/python3.8/site-packages (from requests<3.0.0,>=2.13.0->spacy) (2023.7.22)\r\n",
      "Requirement already satisfied: blis<0.8.0,>=0.7.8 in /Users/jasminejin/miniconda3/envs/alchemy_nlp/lib/python3.8/site-packages (from thinc<8.2.0,>=8.1.8->spacy) (0.7.10)\r\n",
      "Requirement already satisfied: confection<1.0.0,>=0.0.1 in /Users/jasminejin/miniconda3/envs/alchemy_nlp/lib/python3.8/site-packages (from thinc<8.2.0,>=8.1.8->spacy) (0.1.0)\r\n",
      "Requirement already satisfied: click<9.0.0,>=7.1.1 in /Users/jasminejin/miniconda3/envs/alchemy_nlp/lib/python3.8/site-packages (from typer<0.10.0,>=0.3.0->spacy) (8.0.4)\r\n",
      "Requirement already satisfied: MarkupSafe>=2.0 in /Users/jasminejin/miniconda3/envs/alchemy_nlp/lib/python3.8/site-packages (from jinja2->spacy) (2.1.1)\r\n",
      "Requirement already satisfied: gensim in /Users/jasminejin/miniconda3/envs/alchemy_nlp/lib/python3.8/site-packages (4.3.0)\r\n",
      "Requirement already satisfied: numpy>=1.18.5 in /Users/jasminejin/miniconda3/envs/alchemy_nlp/lib/python3.8/site-packages (from gensim) (1.24.3)\r\n",
      "Requirement already satisfied: scipy>=1.7.0 in /Users/jasminejin/miniconda3/envs/alchemy_nlp/lib/python3.8/site-packages (from gensim) (1.10.1)\r\n",
      "Requirement already satisfied: smart-open>=1.8.1 in /Users/jasminejin/miniconda3/envs/alchemy_nlp/lib/python3.8/site-packages (from gensim) (5.2.1)\r\n",
      "Requirement already satisfied: FuzzyTM>=0.4.0 in /Users/jasminejin/miniconda3/envs/alchemy_nlp/lib/python3.8/site-packages (from gensim) (2.0.5)\r\n",
      "Requirement already satisfied: pandas in /Users/jasminejin/miniconda3/envs/alchemy_nlp/lib/python3.8/site-packages (from FuzzyTM>=0.4.0->gensim) (1.5.3)\r\n",
      "Requirement already satisfied: pyfume in /Users/jasminejin/miniconda3/envs/alchemy_nlp/lib/python3.8/site-packages (from FuzzyTM>=0.4.0->gensim) (0.2.25)\r\n",
      "Requirement already satisfied: python-dateutil>=2.8.1 in /Users/jasminejin/miniconda3/envs/alchemy_nlp/lib/python3.8/site-packages (from pandas->FuzzyTM>=0.4.0->gensim) (2.8.2)\r\n",
      "Requirement already satisfied: pytz>=2020.1 in /Users/jasminejin/miniconda3/envs/alchemy_nlp/lib/python3.8/site-packages (from pandas->FuzzyTM>=0.4.0->gensim) (2022.7)\r\n",
      "Requirement already satisfied: simpful in /Users/jasminejin/miniconda3/envs/alchemy_nlp/lib/python3.8/site-packages (from pyfume->FuzzyTM>=0.4.0->gensim) (2.11.0)\r\n",
      "Requirement already satisfied: fst-pso in /Users/jasminejin/miniconda3/envs/alchemy_nlp/lib/python3.8/site-packages (from pyfume->FuzzyTM>=0.4.0->gensim) (1.8.1)\r\n",
      "Requirement already satisfied: six>=1.5 in /Users/jasminejin/miniconda3/envs/alchemy_nlp/lib/python3.8/site-packages (from python-dateutil>=2.8.1->pandas->FuzzyTM>=0.4.0->gensim) (1.16.0)\r\n",
      "Requirement already satisfied: miniful in /Users/jasminejin/miniconda3/envs/alchemy_nlp/lib/python3.8/site-packages (from fst-pso->pyfume->FuzzyTM>=0.4.0->gensim) (0.0.6)\r\n",
      "Requirement already satisfied: pandas in /Users/jasminejin/miniconda3/envs/alchemy_nlp/lib/python3.8/site-packages (1.5.3)\r\n",
      "Requirement already satisfied: python-dateutil>=2.8.1 in /Users/jasminejin/miniconda3/envs/alchemy_nlp/lib/python3.8/site-packages (from pandas) (2.8.2)\r\n",
      "Requirement already satisfied: pytz>=2020.1 in /Users/jasminejin/miniconda3/envs/alchemy_nlp/lib/python3.8/site-packages (from pandas) (2022.7)\r\n",
      "Requirement already satisfied: numpy>=1.20.3 in /Users/jasminejin/miniconda3/envs/alchemy_nlp/lib/python3.8/site-packages (from pandas) (1.24.3)\r\n",
      "Requirement already satisfied: six>=1.5 in /Users/jasminejin/miniconda3/envs/alchemy_nlp/lib/python3.8/site-packages (from python-dateutil>=2.8.1->pandas) (1.16.0)\r\n",
      "Requirement already satisfied: numpy in /Users/jasminejin/miniconda3/envs/alchemy_nlp/lib/python3.8/site-packages (1.24.3)\r\n",
      "Requirement already satisfied: matplotlib in /Users/jasminejin/miniconda3/envs/alchemy_nlp/lib/python3.8/site-packages (3.7.1)\r\n",
      "Requirement already satisfied: contourpy>=1.0.1 in /Users/jasminejin/miniconda3/envs/alchemy_nlp/lib/python3.8/site-packages (from matplotlib) (1.0.5)\r\n",
      "Requirement already satisfied: cycler>=0.10 in /Users/jasminejin/miniconda3/envs/alchemy_nlp/lib/python3.8/site-packages (from matplotlib) (0.11.0)\r\n",
      "Requirement already satisfied: fonttools>=4.22.0 in /Users/jasminejin/miniconda3/envs/alchemy_nlp/lib/python3.8/site-packages (from matplotlib) (4.25.0)\r\n",
      "Requirement already satisfied: kiwisolver>=1.0.1 in /Users/jasminejin/miniconda3/envs/alchemy_nlp/lib/python3.8/site-packages (from matplotlib) (1.4.4)\r\n",
      "Requirement already satisfied: numpy>=1.20 in /Users/jasminejin/miniconda3/envs/alchemy_nlp/lib/python3.8/site-packages (from matplotlib) (1.24.3)\r\n",
      "Requirement already satisfied: packaging>=20.0 in /Users/jasminejin/miniconda3/envs/alchemy_nlp/lib/python3.8/site-packages (from matplotlib) (23.0)\r\n",
      "Requirement already satisfied: pillow>=6.2.0 in /Users/jasminejin/miniconda3/envs/alchemy_nlp/lib/python3.8/site-packages (from matplotlib) (9.4.0)\r\n",
      "Requirement already satisfied: pyparsing>=2.3.1 in /Users/jasminejin/miniconda3/envs/alchemy_nlp/lib/python3.8/site-packages (from matplotlib) (3.0.9)\r\n",
      "Requirement already satisfied: python-dateutil>=2.7 in /Users/jasminejin/miniconda3/envs/alchemy_nlp/lib/python3.8/site-packages (from matplotlib) (2.8.2)\r\n",
      "Requirement already satisfied: importlib-resources>=3.2.0 in /Users/jasminejin/miniconda3/envs/alchemy_nlp/lib/python3.8/site-packages (from matplotlib) (5.2.0)\r\n",
      "Requirement already satisfied: zipp>=3.1.0 in /Users/jasminejin/miniconda3/envs/alchemy_nlp/lib/python3.8/site-packages (from importlib-resources>=3.2.0->matplotlib) (3.11.0)\r\n",
      "Requirement already satisfied: six>=1.5 in /Users/jasminejin/miniconda3/envs/alchemy_nlp/lib/python3.8/site-packages (from python-dateutil>=2.7->matplotlib) (1.16.0)\r\n",
      "Requirement already satisfied: nltk in /Users/jasminejin/miniconda3/envs/alchemy_nlp/lib/python3.8/site-packages (3.8.1)\r\n",
      "Requirement already satisfied: click in /Users/jasminejin/miniconda3/envs/alchemy_nlp/lib/python3.8/site-packages (from nltk) (8.0.4)\r\n",
      "Requirement already satisfied: joblib in /Users/jasminejin/miniconda3/envs/alchemy_nlp/lib/python3.8/site-packages (from nltk) (1.2.0)\r\n",
      "Requirement already satisfied: regex>=2021.8.3 in /Users/jasminejin/miniconda3/envs/alchemy_nlp/lib/python3.8/site-packages (from nltk) (2022.7.9)\r\n",
      "Requirement already satisfied: tqdm in /Users/jasminejin/miniconda3/envs/alchemy_nlp/lib/python3.8/site-packages (from nltk) (4.65.0)\r\n",
      "Collecting wordcloud\r\n",
      "  Obtaining dependency information for wordcloud from https://files.pythonhosted.org/packages/5b/69/8378740c6c4bc3a423b717c37e3a56ff86c1763eaf4d209393927437a7e3/wordcloud-1.9.2-cp38-cp38-macosx_10_9_x86_64.whl.metadata\r\n",
      "  Downloading wordcloud-1.9.2-cp38-cp38-macosx_10_9_x86_64.whl.metadata (3.3 kB)\r\n",
      "Requirement already satisfied: numpy>=1.6.1 in /Users/jasminejin/miniconda3/envs/alchemy_nlp/lib/python3.8/site-packages (from wordcloud) (1.24.3)\r\n",
      "Requirement already satisfied: pillow in /Users/jasminejin/miniconda3/envs/alchemy_nlp/lib/python3.8/site-packages (from wordcloud) (9.4.0)\r\n",
      "Requirement already satisfied: matplotlib in /Users/jasminejin/miniconda3/envs/alchemy_nlp/lib/python3.8/site-packages (from wordcloud) (3.7.1)\r\n",
      "Requirement already satisfied: contourpy>=1.0.1 in /Users/jasminejin/miniconda3/envs/alchemy_nlp/lib/python3.8/site-packages (from matplotlib->wordcloud) (1.0.5)\r\n",
      "Requirement already satisfied: cycler>=0.10 in /Users/jasminejin/miniconda3/envs/alchemy_nlp/lib/python3.8/site-packages (from matplotlib->wordcloud) (0.11.0)\r\n",
      "Requirement already satisfied: fonttools>=4.22.0 in /Users/jasminejin/miniconda3/envs/alchemy_nlp/lib/python3.8/site-packages (from matplotlib->wordcloud) (4.25.0)\r\n",
      "Requirement already satisfied: kiwisolver>=1.0.1 in /Users/jasminejin/miniconda3/envs/alchemy_nlp/lib/python3.8/site-packages (from matplotlib->wordcloud) (1.4.4)\r\n",
      "Requirement already satisfied: packaging>=20.0 in /Users/jasminejin/miniconda3/envs/alchemy_nlp/lib/python3.8/site-packages (from matplotlib->wordcloud) (23.0)\r\n",
      "Requirement already satisfied: pyparsing>=2.3.1 in /Users/jasminejin/miniconda3/envs/alchemy_nlp/lib/python3.8/site-packages (from matplotlib->wordcloud) (3.0.9)\r\n",
      "Requirement already satisfied: python-dateutil>=2.7 in /Users/jasminejin/miniconda3/envs/alchemy_nlp/lib/python3.8/site-packages (from matplotlib->wordcloud) (2.8.2)\r\n",
      "Requirement already satisfied: importlib-resources>=3.2.0 in /Users/jasminejin/miniconda3/envs/alchemy_nlp/lib/python3.8/site-packages (from matplotlib->wordcloud) (5.2.0)\r\n",
      "Requirement already satisfied: zipp>=3.1.0 in /Users/jasminejin/miniconda3/envs/alchemy_nlp/lib/python3.8/site-packages (from importlib-resources>=3.2.0->matplotlib->wordcloud) (3.11.0)\r\n",
      "Requirement already satisfied: six>=1.5 in /Users/jasminejin/miniconda3/envs/alchemy_nlp/lib/python3.8/site-packages (from python-dateutil>=2.7->matplotlib->wordcloud) (1.16.0)\r\n",
      "Downloading wordcloud-1.9.2-cp38-cp38-macosx_10_9_x86_64.whl (159 kB)\r\n",
      "\u001B[2K   \u001B[90m━━━━━━━━━━━━━━━━━━━━━━━━━━━━━━━━━━━━━━━━\u001B[0m \u001B[32m159.6/159.6 kB\u001B[0m \u001B[31m7.6 MB/s\u001B[0m eta \u001B[36m0:00:00\u001B[0m\r\n",
      "\u001B[?25hInstalling collected packages: wordcloud\r\n",
      "Successfully installed wordcloud-1.9.2\r\n"
     ]
    }
   ],
   "source": [
    "!pip install -U spacy\n",
    "!pip install gensim\n",
    "!pip install pandas\n",
    "!pip install numpy\n",
    "!pip install matplotlib\n",
    "!pip install nltk\n",
    "!pip install wordcloud\n",
    "#!pip install pyLDAvis"
   ]
  },
  {
   "cell_type": "code",
   "execution_count": 8,
   "metadata": {},
   "outputs": [
    {
     "name": "stdout",
     "output_type": "stream",
     "text": [
      "Requirement already satisfied: sklearn in /Users/jasminejin/miniconda3/envs/alchemy_nlp/lib/python3.8/site-packages (0.0.post7)\r\n",
      "Collecting pyLDAvis\r\n",
      "  Downloading pyLDAvis-3.4.0-py3-none-any.whl (2.6 MB)\r\n",
      "\u001B[2K     \u001B[90m━━━━━━━━━━━━━━━━━━━━━━━━━━━━━━━━━━━━━━━━\u001B[0m \u001B[32m2.6/2.6 MB\u001B[0m \u001B[31m19.7 MB/s\u001B[0m eta \u001B[36m0:00:00\u001B[0m00:01\u001B[0m00:01\u001B[0m\r\n",
      "\u001B[?25hRequirement already satisfied: numpy>=1.22.0 in /Users/jasminejin/miniconda3/envs/alchemy_nlp/lib/python3.8/site-packages (from pyLDAvis) (1.24.3)\r\n",
      "Requirement already satisfied: scipy in /Users/jasminejin/miniconda3/envs/alchemy_nlp/lib/python3.8/site-packages (from pyLDAvis) (1.10.1)\r\n",
      "Requirement already satisfied: pandas>=1.3.4 in /Users/jasminejin/miniconda3/envs/alchemy_nlp/lib/python3.8/site-packages (from pyLDAvis) (1.5.3)\r\n",
      "Requirement already satisfied: joblib>=1.2.0 in /Users/jasminejin/miniconda3/envs/alchemy_nlp/lib/python3.8/site-packages (from pyLDAvis) (1.2.0)\r\n",
      "Requirement already satisfied: jinja2 in /Users/jasminejin/miniconda3/envs/alchemy_nlp/lib/python3.8/site-packages (from pyLDAvis) (3.1.2)\r\n",
      "Requirement already satisfied: numexpr in /Users/jasminejin/miniconda3/envs/alchemy_nlp/lib/python3.8/site-packages (from pyLDAvis) (2.8.4)\r\n",
      "Collecting funcy (from pyLDAvis)\r\n",
      "  Using cached funcy-2.0-py2.py3-none-any.whl (30 kB)\r\n",
      "Requirement already satisfied: scikit-learn>=1.0.0 in /Users/jasminejin/miniconda3/envs/alchemy_nlp/lib/python3.8/site-packages (from pyLDAvis) (1.2.2)\r\n",
      "Requirement already satisfied: gensim in /Users/jasminejin/miniconda3/envs/alchemy_nlp/lib/python3.8/site-packages (from pyLDAvis) (4.3.0)\r\n",
      "Requirement already satisfied: setuptools in /Users/jasminejin/miniconda3/envs/alchemy_nlp/lib/python3.8/site-packages (from pyLDAvis) (68.0.0)\r\n",
      "Requirement already satisfied: python-dateutil>=2.8.1 in /Users/jasminejin/miniconda3/envs/alchemy_nlp/lib/python3.8/site-packages (from pandas>=1.3.4->pyLDAvis) (2.8.2)\r\n",
      "Requirement already satisfied: pytz>=2020.1 in /Users/jasminejin/miniconda3/envs/alchemy_nlp/lib/python3.8/site-packages (from pandas>=1.3.4->pyLDAvis) (2022.7)\r\n",
      "Requirement already satisfied: threadpoolctl>=2.0.0 in /Users/jasminejin/miniconda3/envs/alchemy_nlp/lib/python3.8/site-packages (from scikit-learn>=1.0.0->pyLDAvis) (2.2.0)\r\n",
      "Requirement already satisfied: smart-open>=1.8.1 in /Users/jasminejin/miniconda3/envs/alchemy_nlp/lib/python3.8/site-packages (from gensim->pyLDAvis) (5.2.1)\r\n",
      "Requirement already satisfied: FuzzyTM>=0.4.0 in /Users/jasminejin/miniconda3/envs/alchemy_nlp/lib/python3.8/site-packages (from gensim->pyLDAvis) (2.0.5)\r\n",
      "Requirement already satisfied: MarkupSafe>=2.0 in /Users/jasminejin/miniconda3/envs/alchemy_nlp/lib/python3.8/site-packages (from jinja2->pyLDAvis) (2.1.1)\r\n",
      "Requirement already satisfied: pyfume in /Users/jasminejin/miniconda3/envs/alchemy_nlp/lib/python3.8/site-packages (from FuzzyTM>=0.4.0->gensim->pyLDAvis) (0.2.25)\r\n",
      "Requirement already satisfied: six>=1.5 in /Users/jasminejin/miniconda3/envs/alchemy_nlp/lib/python3.8/site-packages (from python-dateutil>=2.8.1->pandas>=1.3.4->pyLDAvis) (1.16.0)\r\n",
      "Requirement already satisfied: simpful in /Users/jasminejin/miniconda3/envs/alchemy_nlp/lib/python3.8/site-packages (from pyfume->FuzzyTM>=0.4.0->gensim->pyLDAvis) (2.11.0)\r\n",
      "Requirement already satisfied: fst-pso in /Users/jasminejin/miniconda3/envs/alchemy_nlp/lib/python3.8/site-packages (from pyfume->FuzzyTM>=0.4.0->gensim->pyLDAvis) (1.8.1)\r\n",
      "Requirement already satisfied: miniful in /Users/jasminejin/miniconda3/envs/alchemy_nlp/lib/python3.8/site-packages (from fst-pso->pyfume->FuzzyTM>=0.4.0->gensim->pyLDAvis) (0.0.6)\r\n",
      "Installing collected packages: funcy, pyLDAvis\r\n",
      "Successfully installed funcy-2.0 pyLDAvis-3.4.0\r\n",
      "\u001B[31mERROR: Could not find a version that satisfies the requirement pyLDAvis.sklearn (from versions: none)\u001B[0m\u001B[31m\r\n",
      "\u001B[0m\u001B[31mERROR: No matching distribution found for pyLDAvis.sklearn\u001B[0m\u001B[31m\r\n",
      "\u001B[0m"
     ]
    }
   ],
   "source": [
    "!pip install sklearn\n",
    "!pip install pyLDAvis\n",
    "!pip install pyLDAvis.sklearn\n",
    "# !pip install pickle\n",
    "# !pip install pprint"
   ]
  },
  {
   "cell_type": "code",
   "execution_count": 9,
   "metadata": {},
   "outputs": [
    {
     "name": "stdout",
     "output_type": "stream",
     "text": [
      "Requirement already satisfied: chardet in /Users/jasminejin/miniconda3/envs/alchemy_nlp/lib/python3.8/site-packages (4.0.0)\r\n"
     ]
    }
   ],
   "source": [
    "!pip install chardet"
   ]
  },
  {
   "cell_type": "code",
   "execution_count": 11,
   "metadata": {},
   "outputs": [],
   "source": [
    "import os\n",
    "os.chdir('../scr/')\n",
    "%run setup.py"
   ]
  },
  {
   "cell_type": "code",
   "execution_count": null,
   "metadata": {},
   "outputs": [],
   "source": [
    "#pwd()"
   ]
  },
  {
   "cell_type": "code",
   "execution_count": null,
   "metadata": {},
   "outputs": [],
   "source": [
    "# error: 'utf-8' codec can't decode byte 0xb2 in position 4838: invalid start byte\n",
    "# https://stackoverflow.com/questions/18171739/unicodedecodeerror-when-reading-csv-file-in-pandas-with-python"
   ]
  },
  {
   "cell_type": "code",
   "execution_count": 12,
   "metadata": {},
   "outputs": [],
   "source": [
    "os.chdir('../alchemy_texts/')"
   ]
  },
  {
   "cell_type": "code",
   "execution_count": null,
   "metadata": {},
   "outputs": [],
   "source": [
    "#pwd()"
   ]
  },
  {
   "cell_type": "code",
   "execution_count": null,
   "metadata": {},
   "outputs": [],
   "source": [
    "!ls"
   ]
  },
  {
   "cell_type": "code",
   "execution_count": 13,
   "metadata": {},
   "outputs": [
    {
     "name": "stdout",
     "output_type": "stream",
     "text": [
      "{'encoding': 'utf-8', 'confidence': 0.99, 'language': ''}\n"
     ]
    }
   ],
   "source": [
    "import pandas as pd\n",
    "import chardet\n",
    "rawdata = open('compressed_documents2.csv', 'rb').read()\n",
    "result = chardet.detect(rawdata)\n",
    "print(result)"
   ]
  },
  {
   "cell_type": "code",
   "execution_count": 14,
   "metadata": {},
   "outputs": [],
   "source": [
    "# load the texts\n",
    "# texts = pd.read_csv('compressed_documents.csv', encoding= 'iso-8859-1') # ISO-8859-1\n",
    "# texts = pd.read_csv('compressed_documents.csv', encoding= 'latin1') # \n",
    "texts = pd.read_csv('compressed_documents2.csv', encoding= 'utf-8', on_bad_lines= 'skip', usecols = ['Title','Date','Publisher','Text']) #\n",
    "# texts = pd.read_csv('compressed_documents.csv', encoding= 'cp1252') # cp1252\n",
    "# texts = pd.read_csv('compressed_documents.csv') # ISO-8859-1\n",
    "# texts = texts.dropna()\n",
    "# texts = texts.reset_index(drop=True)\n",
    "# texts.head()"
   ]
  },
  {
   "cell_type": "code",
   "execution_count": 15,
   "metadata": {},
   "outputs": [
    {
     "data": {
      "text/plain": "                                                 Title        Date  Publisher  \\\n0    The art of glass wherein are shown the wayes t...  1662-01-01        NaN   \n1    A general collection of discourses of the virt...  1664-01-01        NaN   \n2    Bazilica chymica, & Praxis chymiatricæ, or, Ro...  1670-01-01        NaN   \n3    A dialogue between alkali and acid containing ...  1698-01-01        NaN   \n4    A new treatise of natural philosophy, free'd f...  1687-01-01        NaN   \n..                                                 ...         ...        ...   \n99   Vindiciæ literarum, the schools guarded, or, T...  1655-01-01        NaN   \n100  Belphegor, or, The marriage of the Devil a tra...  1691-01-01        NaN   \n101  Tryon's letters upon several occasions ... by ...  1700-01-01        NaN   \n102  The anatomy of human bodies, comprehending the...  1694-01-01        NaN   \n103  Chirurgorum comes, or, The whole practice of c...  1687-01-01        NaN   \n\n                                                  Text  \n0    Image 1 (unnumbered page) Unnumbered page THE ...  \n1    Image 1 (unnumbered page) Imprimatur, November...  \n2    Image 1 (unnumbered page) Bazilica Chymica, & ...  \n3    Image 1 (unnumbered page) Unnumbered page A DI...  \n4    Image 1 (unnumbered page)  Unnumbered page A N...  \n..                                                 ...  \n99   Image 1 (unnumbered page) Unnumbered page Vind...  \n100  Image 1 (unnumbered page) Unnumbered page BELP...  \n101  Image 1 (unnumbered page) Unnumbered page TRYO...  \n102  Image 1 (unnumbered page)     Unnumbered page ...  \n103  Image 1 (unnumbered page) Unnumbered page CHIR...  \n\n[104 rows x 4 columns]",
      "text/html": "<div>\n<style scoped>\n    .dataframe tbody tr th:only-of-type {\n        vertical-align: middle;\n    }\n\n    .dataframe tbody tr th {\n        vertical-align: top;\n    }\n\n    .dataframe thead th {\n        text-align: right;\n    }\n</style>\n<table border=\"1\" class=\"dataframe\">\n  <thead>\n    <tr style=\"text-align: right;\">\n      <th></th>\n      <th>Title</th>\n      <th>Date</th>\n      <th>Publisher</th>\n      <th>Text</th>\n    </tr>\n  </thead>\n  <tbody>\n    <tr>\n      <th>0</th>\n      <td>The art of glass wherein are shown the wayes t...</td>\n      <td>1662-01-01</td>\n      <td>NaN</td>\n      <td>Image 1 (unnumbered page) Unnumbered page THE ...</td>\n    </tr>\n    <tr>\n      <th>1</th>\n      <td>A general collection of discourses of the virt...</td>\n      <td>1664-01-01</td>\n      <td>NaN</td>\n      <td>Image 1 (unnumbered page) Imprimatur, November...</td>\n    </tr>\n    <tr>\n      <th>2</th>\n      <td>Bazilica chymica, &amp; Praxis chymiatricæ, or, Ro...</td>\n      <td>1670-01-01</td>\n      <td>NaN</td>\n      <td>Image 1 (unnumbered page) Bazilica Chymica, &amp; ...</td>\n    </tr>\n    <tr>\n      <th>3</th>\n      <td>A dialogue between alkali and acid containing ...</td>\n      <td>1698-01-01</td>\n      <td>NaN</td>\n      <td>Image 1 (unnumbered page) Unnumbered page A DI...</td>\n    </tr>\n    <tr>\n      <th>4</th>\n      <td>A new treatise of natural philosophy, free'd f...</td>\n      <td>1687-01-01</td>\n      <td>NaN</td>\n      <td>Image 1 (unnumbered page)  Unnumbered page A N...</td>\n    </tr>\n    <tr>\n      <th>...</th>\n      <td>...</td>\n      <td>...</td>\n      <td>...</td>\n      <td>...</td>\n    </tr>\n    <tr>\n      <th>99</th>\n      <td>Vindiciæ literarum, the schools guarded, or, T...</td>\n      <td>1655-01-01</td>\n      <td>NaN</td>\n      <td>Image 1 (unnumbered page) Unnumbered page Vind...</td>\n    </tr>\n    <tr>\n      <th>100</th>\n      <td>Belphegor, or, The marriage of the Devil a tra...</td>\n      <td>1691-01-01</td>\n      <td>NaN</td>\n      <td>Image 1 (unnumbered page) Unnumbered page BELP...</td>\n    </tr>\n    <tr>\n      <th>101</th>\n      <td>Tryon's letters upon several occasions ... by ...</td>\n      <td>1700-01-01</td>\n      <td>NaN</td>\n      <td>Image 1 (unnumbered page) Unnumbered page TRYO...</td>\n    </tr>\n    <tr>\n      <th>102</th>\n      <td>The anatomy of human bodies, comprehending the...</td>\n      <td>1694-01-01</td>\n      <td>NaN</td>\n      <td>Image 1 (unnumbered page)     Unnumbered page ...</td>\n    </tr>\n    <tr>\n      <th>103</th>\n      <td>Chirurgorum comes, or, The whole practice of c...</td>\n      <td>1687-01-01</td>\n      <td>NaN</td>\n      <td>Image 1 (unnumbered page) Unnumbered page CHIR...</td>\n    </tr>\n  </tbody>\n</table>\n<p>104 rows × 4 columns</p>\n</div>"
     },
     "execution_count": 15,
     "metadata": {},
     "output_type": "execute_result"
    }
   ],
   "source": [
    "texts"
   ]
  },
  {
   "cell_type": "code",
   "execution_count": 46,
   "metadata": {},
   "outputs": [
    {
     "data": {
      "text/html": [
       "<div>\n",
       "<style scoped>\n",
       "    .dataframe tbody tr th:only-of-type {\n",
       "        vertical-align: middle;\n",
       "    }\n",
       "\n",
       "    .dataframe tbody tr th {\n",
       "        vertical-align: top;\n",
       "    }\n",
       "\n",
       "    .dataframe thead th {\n",
       "        text-align: right;\n",
       "    }\n",
       "</style>\n",
       "<table border=\"1\" class=\"dataframe\">\n",
       "  <thead>\n",
       "    <tr style=\"text-align: right;\">\n",
       "      <th></th>\n",
       "      <th>Date</th>\n",
       "      <th>Publisher</th>\n",
       "      <th>Text</th>\n",
       "    </tr>\n",
       "    <tr>\n",
       "      <th>Title</th>\n",
       "      <th></th>\n",
       "      <th></th>\n",
       "      <th></th>\n",
       "    </tr>\n",
       "  </thead>\n",
       "  <tbody>\n",
       "    <tr>\n",
       "      <th>Medicinal experiments, or, A collection of choice and safe remedies for the most part simple and easily prepared, useful in families, and very serviceable to country people / by R. Boyle ; to which is annexed a catalogue of his theological and philosophical books and tracts.</th>\n",
       "      <td>1693-01-01</td>\n",
       "      <td>NaN</td>\n",
       "      <td>\"Image 1 (unnumbered page) Medicinal Experimen...</td>\n",
       "    </tr>\n",
       "    <tr>\n",
       "      <th>Chymical secrets and rare experiments in physick &amp; philosophy with figures collected and experimented / by the Honourable and learned Sir Kenelm Digby ...</th>\n",
       "      <td>1683-01-01</td>\n",
       "      <td>NaN</td>\n",
       "      <td>\"Image 1 (unnumbered page) Unnumbered page Chy...</td>\n",
       "    </tr>\n",
       "    <tr>\n",
       "      <th>Observations on the mineral waters of France made in the Royal Academy of the Sciences / by the Sieur Du Clos.</th>\n",
       "      <td>1684-01-01</td>\n",
       "      <td>NaN</td>\n",
       "      <td>\"Image 1 (unnumbered page) Unnumbered page OBS...</td>\n",
       "    </tr>\n",
       "    <tr>\n",
       "      <th>A letter in answer to certain qu�ries and objections made by a learned Galenist against the theorie and practice of chymical physick wherein the right method of curing of diseases is demonstrated, the possibility of universal medicine evinced, and chymical physick vindicated / by George Acton ...</th>\n",
       "      <td>1670-01-01</td>\n",
       "      <td>NaN</td>\n",
       "      <td>Image 1 (unnumbered page) Unnumbered page A LE...</td>\n",
       "    </tr>\n",
       "    <tr>\n",
       "      <th>Paracelsus his Aurora, &amp; treasure of the philosophers� As also the water-stone of the wise men; describing the matter of, and manner how to attain the universal tincture. Faithfully Englished� And published by J. H. Oxon.</th>\n",
       "      <td>1659-01-01</td>\n",
       "      <td>NaN</td>\n",
       "      <td>\"full_text&gt;   Image 1 (unnumbered page) Unnumb...</td>\n",
       "    </tr>\n",
       "    <tr>\n",
       "      <th>...</th>\n",
       "      <td>...</td>\n",
       "      <td>...</td>\n",
       "      <td>...</td>\n",
       "    </tr>\n",
       "    <tr>\n",
       "      <th>The arraignment of vrines vvherein are set downe the manifold errors and abuses of ignorant vrine-mongring empirickes, cozening quacksaluers, women-physitians, and the like stuffe ... Collected and gathered as well out of the most ancient, as the moderne and late physitians of our time: and written first in the Latine tongue, and diuided into three bookes by Peter Forrest D. in Physicke ... And for the benefit of our British nations newly epitomized, and translated into our English tongue by Iames Hart Dr. of the foresaid faculty, and residing in the towne of Northampton.</th>\n",
       "      <td>1623-01-01</td>\n",
       "      <td>NaN</td>\n",
       "      <td>\"Image 1 (unnumbered page) Unnumbered page THE...</td>\n",
       "    </tr>\n",
       "    <tr>\n",
       "      <th>PharmacopSia Bateana, or, Bate's dispensatory translated from the second edition of the Latin copy, published by Mr. James Shipton : containing his choice and select recipe's, their names, compositions, preparations, vertues, uses, and doses, as they are applicable to the whole practice of physick and chyrurgery : the Arcana Goddardiana, and their recipe's intersperst in their proper places, which are almost all wanting in the Latin copy : compleated with above five hundred chymical processes, and their explications at large, various observations thereon, and a rationale upon each process : to which are added in this English edition, Goddard's drops, Russel's pouder [sic], and the Emplastrum febrifugum, those so much fam'd in the world : as also several other preparations from the Collectanea chymica, and other good authors / by William Salmon ...</th>\n",
       "      <td>1694-01-01</td>\n",
       "      <td>NaN</td>\n",
       "      <td>\"Image 1 (unnumbered page)  Lib. 1. cap. 9 Sec...</td>\n",
       "    </tr>\n",
       "    <tr>\n",
       "      <th>Gregorii Opuscula, or, Notes &amp; observations upon some passages of Scripture with other learned tracts / written by John Gregory ...</th>\n",
       "      <td>1650-01-01</td>\n",
       "      <td>NaN</td>\n",
       "      <td>\"Image 1 (unnumbered page) Unnumbered page GRE...</td>\n",
       "    </tr>\n",
       "    <tr>\n",
       "      <th>The chirurgicall lectures of tumors and vlcers Delivered on Tusedayes appointed for these exercises, and keeping of their courts in the Chirurgeans Hall these three yeeres last past, viz. 1632, 1633, and 1634. By Alexander Read Doctor of Physick, and one of the fellowes of the Physitians College of London.</th>\n",
       "      <td>1635-01-01</td>\n",
       "      <td>NaN</td>\n",
       "      <td>\"Image 1 (unnumbered page) Unnumbered page THE...</td>\n",
       "    </tr>\n",
       "    <tr>\n",
       "      <th>A short description and vindication of the true sal volatile oleosum.Of the ancients wherein 'tis prov'd the great medicine of the spirits; and consequently, an universal remedy. By T. Byfield, M.D.</th>\n",
       "      <td>1699-01-01</td>\n",
       "      <td>NaN</td>\n",
       "      <td>\"Image 1 (unnumbered page)  A Short Descriptio...</td>\n",
       "    </tr>\n",
       "  </tbody>\n",
       "</table>\n",
       "<p>78 rows × 3 columns</p>\n",
       "</div>"
      ],
      "text/plain": [
       "                                                          Date Publisher  \\\n",
       "Title                                                                      \n",
       "Medicinal experiments, or, A collection of choi...  1693-01-01       NaN   \n",
       "Chymical secrets and rare experiments in physic...  1683-01-01       NaN   \n",
       "Observations on the mineral waters of France ma...  1684-01-01       NaN   \n",
       "A letter in answer to certain qu�ries and objec...  1670-01-01       NaN   \n",
       "Paracelsus his Aurora, & treasure of the philos...  1659-01-01       NaN   \n",
       "...                                                        ...       ...   \n",
       "The arraignment of vrines vvherein are set down...  1623-01-01       NaN   \n",
       "PharmacopSia Bateana, or, Bate's dispensatory t...  1694-01-01       NaN   \n",
       "Gregorii Opuscula, or, Notes & observations upo...  1650-01-01       NaN   \n",
       "The chirurgicall lectures of tumors and vlcers ...  1635-01-01       NaN   \n",
       "A short description and vindication of the true...  1699-01-01       NaN   \n",
       "\n",
       "                                                                                                 Text  \n",
       "Title                                                                                                  \n",
       "Medicinal experiments, or, A collection of choi...  \"Image 1 (unnumbered page) Medicinal Experimen...  \n",
       "Chymical secrets and rare experiments in physic...  \"Image 1 (unnumbered page) Unnumbered page Chy...  \n",
       "Observations on the mineral waters of France ma...  \"Image 1 (unnumbered page) Unnumbered page OBS...  \n",
       "A letter in answer to certain qu�ries and objec...  Image 1 (unnumbered page) Unnumbered page A LE...  \n",
       "Paracelsus his Aurora, & treasure of the philos...  \"full_text>   Image 1 (unnumbered page) Unnumb...  \n",
       "...                                                                                               ...  \n",
       "The arraignment of vrines vvherein are set down...  \"Image 1 (unnumbered page) Unnumbered page THE...  \n",
       "PharmacopSia Bateana, or, Bate's dispensatory t...  \"Image 1 (unnumbered page)  Lib. 1. cap. 9 Sec...  \n",
       "Gregorii Opuscula, or, Notes & observations upo...  \"Image 1 (unnumbered page) Unnumbered page GRE...  \n",
       "The chirurgicall lectures of tumors and vlcers ...  \"Image 1 (unnumbered page) Unnumbered page THE...  \n",
       "A short description and vindication of the true...  \"Image 1 (unnumbered page)  A Short Descriptio...  \n",
       "\n",
       "[78 rows x 3 columns]"
      ]
     },
     "execution_count": 46,
     "metadata": {},
     "output_type": "execute_result"
    }
   ],
   "source": [
    "texts"
   ]
  },
  {
   "cell_type": "code",
   "execution_count": 18,
   "metadata": {},
   "outputs": [],
   "source": [
    "# save the texts file as a csv\n",
    "\n",
    "texts.to_csv('texts_aka_compressed_documents2.csv')"
   ]
  },
  {
   "cell_type": "code",
   "execution_count": 19,
   "metadata": {},
   "outputs": [],
   "source": [
    "# save the texts file as a pickle\n",
    "\n",
    "texts.to_pickle('texts_aka_compressed_documents2.pkl')"
   ]
  },
  {
   "cell_type": "code",
   "execution_count": 20,
   "metadata": {},
   "outputs": [
    {
     "data": {
      "text/plain": "(1.0, 104)"
     },
     "execution_count": 20,
     "metadata": {},
     "output_type": "execute_result"
    }
   ],
   "source": [
    "# find the proportion of nonempty to empty rows in the column Publisher\n",
    "texts['Publisher'].isnull().sum() / len(texts['Publisher']), len(texts['Publisher'])"
   ]
  },
  {
   "cell_type": "code",
   "execution_count": 21,
   "metadata": {},
   "outputs": [
    {
     "data": {
      "text/plain": "Title          0\nDate           0\nPublisher    104\nText           0\ndtype: int64"
     },
     "execution_count": 21,
     "metadata": {},
     "output_type": "execute_result"
    }
   ],
   "source": [
    "texts.isnull().sum()"
   ]
  },
  {
   "cell_type": "code",
   "execution_count": 22,
   "metadata": {},
   "outputs": [
    {
     "data": {
      "text/plain": "Empty DataFrame\nColumns: [Title, Date, Publisher, Text]\nIndex: []",
      "text/html": "<div>\n<style scoped>\n    .dataframe tbody tr th:only-of-type {\n        vertical-align: middle;\n    }\n\n    .dataframe tbody tr th {\n        vertical-align: top;\n    }\n\n    .dataframe thead th {\n        text-align: right;\n    }\n</style>\n<table border=\"1\" class=\"dataframe\">\n  <thead>\n    <tr style=\"text-align: right;\">\n      <th></th>\n      <th>Title</th>\n      <th>Date</th>\n      <th>Publisher</th>\n      <th>Text</th>\n    </tr>\n  </thead>\n  <tbody>\n  </tbody>\n</table>\n</div>"
     },
     "execution_count": 22,
     "metadata": {},
     "output_type": "execute_result"
    }
   ],
   "source": [
    "# get the row with empty date \n",
    "texts[texts['Date'].isnull()]"
   ]
  },
  {
   "cell_type": "code",
   "execution_count": 60,
   "metadata": {},
   "outputs": [
    {
     "data": {
      "text/html": [
       "<div>\n",
       "<style scoped>\n",
       "    .dataframe tbody tr th:only-of-type {\n",
       "        vertical-align: middle;\n",
       "    }\n",
       "\n",
       "    .dataframe tbody tr th {\n",
       "        vertical-align: top;\n",
       "    }\n",
       "\n",
       "    .dataframe thead th {\n",
       "        text-align: right;\n",
       "    }\n",
       "</style>\n",
       "<table border=\"1\" class=\"dataframe\">\n",
       "  <thead>\n",
       "    <tr style=\"text-align: right;\">\n",
       "      <th></th>\n",
       "      <th>Title</th>\n",
       "      <th>Date</th>\n",
       "      <th>Publisher</th>\n",
       "      <th>Text</th>\n",
       "    </tr>\n",
       "  </thead>\n",
       "  <tbody>\n",
       "    <tr>\n",
       "      <th>40</th>\n",
       "      <td>NaN</td>\n",
       "      <td>NaN</td>\n",
       "      <td>NaN</td>\n",
       "      <td>NaN</td>\n",
       "    </tr>\n",
       "  </tbody>\n",
       "</table>\n",
       "</div>"
      ],
      "text/plain": [
       "   Title Date Publisher Text\n",
       "40   NaN  NaN       NaN  NaN"
      ]
     },
     "execution_count": 60,
     "metadata": {},
     "output_type": "execute_result"
    }
   ],
   "source": [
    "# get the row with empty Title \n",
    "texts[texts['Title'].isnull()]"
   ]
  },
  {
   "cell_type": "code",
   "execution_count": 23,
   "metadata": {},
   "outputs": [
    {
     "data": {
      "text/plain": "                                                 Title        Date  Publisher  \\\n0    The art of glass wherein are shown the wayes t...  1662-01-01        NaN   \n1    A general collection of discourses of the virt...  1664-01-01        NaN   \n2    Bazilica chymica, & Praxis chymiatricæ, or, Ro...  1670-01-01        NaN   \n3    A dialogue between alkali and acid containing ...  1698-01-01        NaN   \n4    A new treatise of natural philosophy, free'd f...  1687-01-01        NaN   \n..                                                 ...         ...        ...   \n99   Vindiciæ literarum, the schools guarded, or, T...  1655-01-01        NaN   \n100  Belphegor, or, The marriage of the Devil a tra...  1691-01-01        NaN   \n101  Tryon's letters upon several occasions ... by ...  1700-01-01        NaN   \n102  The anatomy of human bodies, comprehending the...  1694-01-01        NaN   \n103  Chirurgorum comes, or, The whole practice of c...  1687-01-01        NaN   \n\n                                                  Text  \n0    Image 1 (unnumbered page) Unnumbered page THE ...  \n1    Image 1 (unnumbered page) Imprimatur, November...  \n2    Image 1 (unnumbered page) Bazilica Chymica, & ...  \n3    Image 1 (unnumbered page) Unnumbered page A DI...  \n4    Image 1 (unnumbered page)  Unnumbered page A N...  \n..                                                 ...  \n99   Image 1 (unnumbered page) Unnumbered page Vind...  \n100  Image 1 (unnumbered page) Unnumbered page BELP...  \n101  Image 1 (unnumbered page) Unnumbered page TRYO...  \n102  Image 1 (unnumbered page)     Unnumbered page ...  \n103  Image 1 (unnumbered page) Unnumbered page CHIR...  \n\n[104 rows x 4 columns]",
      "text/html": "<div>\n<style scoped>\n    .dataframe tbody tr th:only-of-type {\n        vertical-align: middle;\n    }\n\n    .dataframe tbody tr th {\n        vertical-align: top;\n    }\n\n    .dataframe thead th {\n        text-align: right;\n    }\n</style>\n<table border=\"1\" class=\"dataframe\">\n  <thead>\n    <tr style=\"text-align: right;\">\n      <th></th>\n      <th>Title</th>\n      <th>Date</th>\n      <th>Publisher</th>\n      <th>Text</th>\n    </tr>\n  </thead>\n  <tbody>\n    <tr>\n      <th>0</th>\n      <td>The art of glass wherein are shown the wayes t...</td>\n      <td>1662-01-01</td>\n      <td>NaN</td>\n      <td>Image 1 (unnumbered page) Unnumbered page THE ...</td>\n    </tr>\n    <tr>\n      <th>1</th>\n      <td>A general collection of discourses of the virt...</td>\n      <td>1664-01-01</td>\n      <td>NaN</td>\n      <td>Image 1 (unnumbered page) Imprimatur, November...</td>\n    </tr>\n    <tr>\n      <th>2</th>\n      <td>Bazilica chymica, &amp; Praxis chymiatricæ, or, Ro...</td>\n      <td>1670-01-01</td>\n      <td>NaN</td>\n      <td>Image 1 (unnumbered page) Bazilica Chymica, &amp; ...</td>\n    </tr>\n    <tr>\n      <th>3</th>\n      <td>A dialogue between alkali and acid containing ...</td>\n      <td>1698-01-01</td>\n      <td>NaN</td>\n      <td>Image 1 (unnumbered page) Unnumbered page A DI...</td>\n    </tr>\n    <tr>\n      <th>4</th>\n      <td>A new treatise of natural philosophy, free'd f...</td>\n      <td>1687-01-01</td>\n      <td>NaN</td>\n      <td>Image 1 (unnumbered page)  Unnumbered page A N...</td>\n    </tr>\n    <tr>\n      <th>...</th>\n      <td>...</td>\n      <td>...</td>\n      <td>...</td>\n      <td>...</td>\n    </tr>\n    <tr>\n      <th>99</th>\n      <td>Vindiciæ literarum, the schools guarded, or, T...</td>\n      <td>1655-01-01</td>\n      <td>NaN</td>\n      <td>Image 1 (unnumbered page) Unnumbered page Vind...</td>\n    </tr>\n    <tr>\n      <th>100</th>\n      <td>Belphegor, or, The marriage of the Devil a tra...</td>\n      <td>1691-01-01</td>\n      <td>NaN</td>\n      <td>Image 1 (unnumbered page) Unnumbered page BELP...</td>\n    </tr>\n    <tr>\n      <th>101</th>\n      <td>Tryon's letters upon several occasions ... by ...</td>\n      <td>1700-01-01</td>\n      <td>NaN</td>\n      <td>Image 1 (unnumbered page) Unnumbered page TRYO...</td>\n    </tr>\n    <tr>\n      <th>102</th>\n      <td>The anatomy of human bodies, comprehending the...</td>\n      <td>1694-01-01</td>\n      <td>NaN</td>\n      <td>Image 1 (unnumbered page)     Unnumbered page ...</td>\n    </tr>\n    <tr>\n      <th>103</th>\n      <td>Chirurgorum comes, or, The whole practice of c...</td>\n      <td>1687-01-01</td>\n      <td>NaN</td>\n      <td>Image 1 (unnumbered page) Unnumbered page CHIR...</td>\n    </tr>\n  </tbody>\n</table>\n<p>104 rows × 4 columns</p>\n</div>"
     },
     "execution_count": 23,
     "metadata": {},
     "output_type": "execute_result"
    }
   ],
   "source": [
    "# get the row with empty Publisher \n",
    "texts[texts['Publisher'].isnull()]"
   ]
  },
  {
   "cell_type": "code",
   "execution_count": 24,
   "metadata": {},
   "outputs": [
    {
     "data": {
      "text/plain": "Empty DataFrame\nColumns: [Title, Date, Publisher, Text]\nIndex: []",
      "text/html": "<div>\n<style scoped>\n    .dataframe tbody tr th:only-of-type {\n        vertical-align: middle;\n    }\n\n    .dataframe tbody tr th {\n        vertical-align: top;\n    }\n\n    .dataframe thead th {\n        text-align: right;\n    }\n</style>\n<table border=\"1\" class=\"dataframe\">\n  <thead>\n    <tr style=\"text-align: right;\">\n      <th></th>\n      <th>Title</th>\n      <th>Date</th>\n      <th>Publisher</th>\n      <th>Text</th>\n    </tr>\n  </thead>\n  <tbody>\n  </tbody>\n</table>\n</div>"
     },
     "execution_count": 24,
     "metadata": {},
     "output_type": "execute_result"
    }
   ],
   "source": [
    "# get the row with empty Text \n",
    "texts[texts['Text'].isnull()]"
   ]
  },
  {
   "cell_type": "code",
   "execution_count": 25,
   "metadata": {},
   "outputs": [],
   "source": [
    "# drop the line with all of its columns empty\n",
    "texts = texts.dropna(how='all') # drop the line with all of its columns empty"
   ]
  },
  {
   "cell_type": "code",
   "execution_count": 26,
   "metadata": {},
   "outputs": [
    {
     "data": {
      "text/plain": "Title          0\nDate           0\nPublisher    104\nText           0\ndtype: int64"
     },
     "execution_count": 26,
     "metadata": {},
     "output_type": "execute_result"
    }
   ],
   "source": [
    "texts.isnull().sum()"
   ]
  },
  {
   "cell_type": "code",
   "execution_count": null,
   "metadata": {},
   "outputs": [],
   "source": []
  }
 ],
 "metadata": {
  "kernelspec": {
   "display_name": "Python 3 (ipykernel)",
   "language": "python",
   "name": "python3"
  },
  "language_info": {
   "codemirror_mode": {
    "name": "ipython",
    "version": 3
   },
   "file_extension": ".py",
   "mimetype": "text/x-python",
   "name": "python",
   "nbconvert_exporter": "python",
   "pygments_lexer": "ipython3",
   "version": "3.9.16"
  }
 },
 "nbformat": 4,
 "nbformat_minor": 2
}