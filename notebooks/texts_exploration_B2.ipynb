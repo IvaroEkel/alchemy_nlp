{
 "cells": [
  {
   "cell_type": "code",
   "execution_count": 10,
   "metadata": {},
   "outputs": [],
   "source": [
    "import os\n",
    "import pandas as pd\n",
    "os.chdir('../scr/')\n",
    "%run setup.py"
   ]
  },
  {
   "cell_type": "code",
   "execution_count": 11,
   "metadata": {},
   "outputs": [],
   "source": [
    "os.chdir('../alchemy_texts/')"
   ]
  },
  {
   "cell_type": "code",
   "execution_count": 13,
   "metadata": {},
   "outputs": [
    {
     "data": {
      "text/plain": "                                                 Title        Date  Publisher  \\\n0    The art of glass wherein are shown the wayes t...  1662-01-01        NaN   \n1    A general collection of discourses of the virt...  1664-01-01        NaN   \n2    Bazilica chymica, & Praxis chymiatricæ, or, Ro...  1670-01-01        NaN   \n3    A dialogue between alkali and acid containing ...  1698-01-01        NaN   \n4    A new treatise of natural philosophy, free'd f...  1687-01-01        NaN   \n..                                                 ...         ...        ...   \n99   Vindiciæ literarum, the schools guarded, or, T...  1655-01-01        NaN   \n100  Belphegor, or, The marriage of the Devil a tra...  1691-01-01        NaN   \n101  Tryon's letters upon several occasions ... by ...  1700-01-01        NaN   \n102  The anatomy of human bodies, comprehending the...  1694-01-01        NaN   \n103  Chirurgorum comes, or, The whole practice of c...  1687-01-01        NaN   \n\n                                                  Text  \n0    Image 1 (unnumbered page) Unnumbered page THE ...  \n1    Image 1 (unnumbered page) Imprimatur, November...  \n2    Image 1 (unnumbered page) Bazilica Chymica, & ...  \n3    Image 1 (unnumbered page) Unnumbered page A DI...  \n4    Image 1 (unnumbered page)  Unnumbered page A N...  \n..                                                 ...  \n99   Image 1 (unnumbered page) Unnumbered page Vind...  \n100  Image 1 (unnumbered page) Unnumbered page BELP...  \n101  Image 1 (unnumbered page) Unnumbered page TRYO...  \n102  Image 1 (unnumbered page)     Unnumbered page ...  \n103  Image 1 (unnumbered page) Unnumbered page CHIR...  \n\n[104 rows x 4 columns]",
      "text/html": "<div>\n<style scoped>\n    .dataframe tbody tr th:only-of-type {\n        vertical-align: middle;\n    }\n\n    .dataframe tbody tr th {\n        vertical-align: top;\n    }\n\n    .dataframe thead th {\n        text-align: right;\n    }\n</style>\n<table border=\"1\" class=\"dataframe\">\n  <thead>\n    <tr style=\"text-align: right;\">\n      <th></th>\n      <th>Title</th>\n      <th>Date</th>\n      <th>Publisher</th>\n      <th>Text</th>\n    </tr>\n  </thead>\n  <tbody>\n    <tr>\n      <th>0</th>\n      <td>The art of glass wherein are shown the wayes t...</td>\n      <td>1662-01-01</td>\n      <td>NaN</td>\n      <td>Image 1 (unnumbered page) Unnumbered page THE ...</td>\n    </tr>\n    <tr>\n      <th>1</th>\n      <td>A general collection of discourses of the virt...</td>\n      <td>1664-01-01</td>\n      <td>NaN</td>\n      <td>Image 1 (unnumbered page) Imprimatur, November...</td>\n    </tr>\n    <tr>\n      <th>2</th>\n      <td>Bazilica chymica, &amp; Praxis chymiatricæ, or, Ro...</td>\n      <td>1670-01-01</td>\n      <td>NaN</td>\n      <td>Image 1 (unnumbered page) Bazilica Chymica, &amp; ...</td>\n    </tr>\n    <tr>\n      <th>3</th>\n      <td>A dialogue between alkali and acid containing ...</td>\n      <td>1698-01-01</td>\n      <td>NaN</td>\n      <td>Image 1 (unnumbered page) Unnumbered page A DI...</td>\n    </tr>\n    <tr>\n      <th>4</th>\n      <td>A new treatise of natural philosophy, free'd f...</td>\n      <td>1687-01-01</td>\n      <td>NaN</td>\n      <td>Image 1 (unnumbered page)  Unnumbered page A N...</td>\n    </tr>\n    <tr>\n      <th>...</th>\n      <td>...</td>\n      <td>...</td>\n      <td>...</td>\n      <td>...</td>\n    </tr>\n    <tr>\n      <th>99</th>\n      <td>Vindiciæ literarum, the schools guarded, or, T...</td>\n      <td>1655-01-01</td>\n      <td>NaN</td>\n      <td>Image 1 (unnumbered page) Unnumbered page Vind...</td>\n    </tr>\n    <tr>\n      <th>100</th>\n      <td>Belphegor, or, The marriage of the Devil a tra...</td>\n      <td>1691-01-01</td>\n      <td>NaN</td>\n      <td>Image 1 (unnumbered page) Unnumbered page BELP...</td>\n    </tr>\n    <tr>\n      <th>101</th>\n      <td>Tryon's letters upon several occasions ... by ...</td>\n      <td>1700-01-01</td>\n      <td>NaN</td>\n      <td>Image 1 (unnumbered page) Unnumbered page TRYO...</td>\n    </tr>\n    <tr>\n      <th>102</th>\n      <td>The anatomy of human bodies, comprehending the...</td>\n      <td>1694-01-01</td>\n      <td>NaN</td>\n      <td>Image 1 (unnumbered page)     Unnumbered page ...</td>\n    </tr>\n    <tr>\n      <th>103</th>\n      <td>Chirurgorum comes, or, The whole practice of c...</td>\n      <td>1687-01-01</td>\n      <td>NaN</td>\n      <td>Image 1 (unnumbered page) Unnumbered page CHIR...</td>\n    </tr>\n  </tbody>\n</table>\n<p>104 rows × 4 columns</p>\n</div>"
     },
     "execution_count": 13,
     "metadata": {},
     "output_type": "execute_result"
    }
   ],
   "source": [
    "# loading the reduced dataset: original and saved by me\n",
    "texts0 = pd.read_csv('compressed_documents2.csv', encoding= 'utf-8', on_bad_lines= 'skip', usecols = ['Title','Date','Publisher','Text'])\n",
    "\n",
    "texts0"
   ]
  },
  {
   "cell_type": "code",
   "execution_count": null,
   "metadata": {},
   "outputs": [],
   "source": [
    "texts = pd.read_csv('texts_aka_compressed_documents2.csv', index_col=0)"
   ]
  },
  {
   "cell_type": "code",
   "execution_count": null,
   "metadata": {},
   "outputs": [],
   "source": [
    "# loading the 11-word sentences labeled dataset\n",
    "lw0 = pd.read_csv('11_word_set.csv', encoding= 'utf-8', on_bad_lines= 'skip', usecols = ['Title','Date','Fragments','Lab/Ops','Principles'])"
   ]
  },
  {
   "cell_type": "code",
   "execution_count": null,
   "metadata": {},
   "outputs": [],
   "source": [
    "lw0"
   ]
  },
  {
   "cell_type": "code",
   "execution_count": null,
   "metadata": {},
   "outputs": [],
   "source": [
    "# get the number of non-null entries in each column\n",
    "lw0.count()"
   ]
  },
  {
   "cell_type": "code",
   "execution_count": null,
   "metadata": {},
   "outputs": [],
   "source": [
    "# get the subset of labeled texts, i.e. those with non-null entries in the 'Lab/Ops' OR 'Principles' columns\n",
    "\n",
    "lw0labed = lw0[lw0['Lab/Ops'].notnull() ^ lw0['Principles'].notnull()]"
   ]
  },
  {
   "cell_type": "code",
   "execution_count": null,
   "metadata": {},
   "outputs": [],
   "source": [
    "lw0labed"
   ]
  },
  {
   "cell_type": "code",
   "execution_count": null,
   "metadata": {},
   "outputs": [],
   "source": [
    "lw0labed.count()"
   ]
  },
  {
   "cell_type": "code",
   "execution_count": null,
   "metadata": {},
   "outputs": [],
   "source": [
    "(107-2)/350, 245/350"
   ]
  },
  {
   "cell_type": "markdown",
   "metadata": {},
   "source": [
    "Proportions of lab/opsm and principle fragments: (0.3, 0.7)"
   ]
  },
  {
   "cell_type": "markdown",
   "metadata": {},
   "source": [
    "save the lw0 as csv without the last two rows"
   ]
  },
  {
   "cell_type": "code",
   "execution_count": null,
   "metadata": {},
   "outputs": [],
   "source": [
    "lw0.shape"
   ]
  },
  {
   "cell_type": "code",
   "execution_count": null,
   "metadata": {},
   "outputs": [],
   "source": [
    "# drop the last three rows in lw0 \n",
    "\n",
    "lw0_ = lw0.drop([437,438,439])\n",
    "# write zeros instead of NaNs in the 'Lab/Ops' and 'Principles' columns\n",
    "# lw0_ = lw0_.fillna(0)\n",
    "\n",
    "lw0_"
   ]
  },
  {
   "cell_type": "code",
   "execution_count": null,
   "metadata": {},
   "outputs": [],
   "source": [
    "# get the subset of texts labeled as 'Lab/Ops' \n",
    "\n",
    "lw0labops = lw0_[lw0_['Lab/Ops'].notnull()]\n",
    "\n",
    "# get the 'Principles' subset\n",
    "\n",
    "lw0princip = lw0_[lw0_['Principles'].notnull()]"
   ]
  },
  {
   "cell_type": "code",
   "execution_count": null,
   "metadata": {},
   "outputs": [],
   "source": [
    "# save lw0_ as csv\n",
    "lw0_.to_csv('lw11_aka_11_word_set.csv', encoding='utf-8')\n",
    "# save lw0labops as csv\n",
    "lw0labops.to_csv('lw0labops.csv', encoding='utf-8')\n",
    "# save lw0princip as csv\n",
    "lw0princip.to_csv('lw0princip.csv', encoding='utf-8')"
   ]
  },
  {
   "cell_type": "code",
   "execution_count": 14,
   "metadata": {},
   "outputs": [
    {
     "data": {
      "text/plain": "                                               Title        Date  Publisher  \\\n0  The art of glass wherein are shown the wayes t...  1662-01-01        NaN   \n1  A general collection of discourses of the virt...  1664-01-01        NaN   \n2  Bazilica chymica, & Praxis chymiatricæ, or, Ro...  1670-01-01        NaN   \n3  A dialogue between alkali and acid containing ...  1698-01-01        NaN   \n4  A new treatise of natural philosophy, free'd f...  1687-01-01        NaN   \n\n                                                Text  \n0  Image 1 (unnumbered page) Unnumbered page THE ...  \n1  Image 1 (unnumbered page) Imprimatur, November...  \n2  Image 1 (unnumbered page) Bazilica Chymica, & ...  \n3  Image 1 (unnumbered page) Unnumbered page A DI...  \n4  Image 1 (unnumbered page)  Unnumbered page A N...  ",
      "text/html": "<div>\n<style scoped>\n    .dataframe tbody tr th:only-of-type {\n        vertical-align: middle;\n    }\n\n    .dataframe tbody tr th {\n        vertical-align: top;\n    }\n\n    .dataframe thead th {\n        text-align: right;\n    }\n</style>\n<table border=\"1\" class=\"dataframe\">\n  <thead>\n    <tr style=\"text-align: right;\">\n      <th></th>\n      <th>Title</th>\n      <th>Date</th>\n      <th>Publisher</th>\n      <th>Text</th>\n    </tr>\n  </thead>\n  <tbody>\n    <tr>\n      <th>0</th>\n      <td>The art of glass wherein are shown the wayes t...</td>\n      <td>1662-01-01</td>\n      <td>NaN</td>\n      <td>Image 1 (unnumbered page) Unnumbered page THE ...</td>\n    </tr>\n    <tr>\n      <th>1</th>\n      <td>A general collection of discourses of the virt...</td>\n      <td>1664-01-01</td>\n      <td>NaN</td>\n      <td>Image 1 (unnumbered page) Imprimatur, November...</td>\n    </tr>\n    <tr>\n      <th>2</th>\n      <td>Bazilica chymica, &amp; Praxis chymiatricæ, or, Ro...</td>\n      <td>1670-01-01</td>\n      <td>NaN</td>\n      <td>Image 1 (unnumbered page) Bazilica Chymica, &amp; ...</td>\n    </tr>\n    <tr>\n      <th>3</th>\n      <td>A dialogue between alkali and acid containing ...</td>\n      <td>1698-01-01</td>\n      <td>NaN</td>\n      <td>Image 1 (unnumbered page) Unnumbered page A DI...</td>\n    </tr>\n    <tr>\n      <th>4</th>\n      <td>A new treatise of natural philosophy, free'd f...</td>\n      <td>1687-01-01</td>\n      <td>NaN</td>\n      <td>Image 1 (unnumbered page)  Unnumbered page A N...</td>\n    </tr>\n  </tbody>\n</table>\n</div>"
     },
     "execution_count": 14,
     "metadata": {},
     "output_type": "execute_result"
    }
   ],
   "source": [
    "texts0.head()"
   ]
  },
  {
   "cell_type": "code",
   "execution_count": null,
   "metadata": {},
   "outputs": [],
   "source": [
    "texts.head()"
   ]
  },
  {
   "cell_type": "code",
   "execution_count": null,
   "metadata": {},
   "outputs": [],
   "source": [
    "print(\"finished\")"
   ]
  }
 ],
 "metadata": {
  "kernelspec": {
   "display_name": "Python 3 (ipykernel)",
   "language": "python",
   "name": "python3"
  },
  "language_info": {
   "codemirror_mode": {
    "name": "ipython",
    "version": 3
   },
   "file_extension": ".py",
   "mimetype": "text/x-python",
   "name": "python",
   "nbconvert_exporter": "python",
   "pygments_lexer": "ipython3",
   "version": "3.11.3"
  }
 },
 "nbformat": 4,
 "nbformat_minor": 2
}